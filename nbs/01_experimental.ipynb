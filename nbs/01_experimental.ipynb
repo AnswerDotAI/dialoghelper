{
 "cells": [
  {
   "cell_type": "code",
   "execution_count": null,
   "id": "734d385b",
   "metadata": {},
   "outputs": [],
   "source": [
    "#| default_exp experimental"
   ]
  },
  {
   "cell_type": "markdown",
   "id": "d3fd3c98",
   "metadata": {},
   "source": [
    "# experimental\n",
    "\n",
    "> Experimental `dialoghelper` capabilities."
   ]
  },
  {
   "cell_type": "code",
   "execution_count": null,
   "id": "9b3dd8ad",
   "metadata": {},
   "outputs": [],
   "source": [
    "#| export\n",
    "\n",
    "import pkg_resources\n",
    "import uuid\n",
    "from fasthtml.common import Div, Script\n",
    "from time import sleep\n",
    "import base64\n",
    "import json\n",
    "import time\n",
    "from dialoghelper.core import *\n",
    "from dataclasses import dataclass\n",
    "from httpx import get as xget, post as xpost"
   ]
  },
  {
   "cell_type": "code",
   "execution_count": null,
   "id": "7fec091a",
   "metadata": {},
   "outputs": [],
   "source": [
    "#| export\n",
    "\n",
    "_js_loaded = False\n",
    "\n",
    "def _load_screenshot_js():\n",
    "    \"Load screenshot capability if not already present.\"\n",
    "    global _js_loaded\n",
    "    if _js_loaded:\n",
    "        print(\"screenshot.js already loaded\")\n",
    "        return\n",
    "    js_content = pkg_resources.resource_string('dialoghelper', 'screenshot.js').decode('utf-8')\n",
    "    add_html(Div(Script(js_content), hx_swap_oob='beforeend:#js-script'))\n",
    "    print(\"Added screenshot.js\")\n",
    "    _js_loaded = True"
   ]
  },
  {
   "cell_type": "code",
   "execution_count": null,
   "id": "4865de93",
   "metadata": {},
   "outputs": [],
   "source": [
    "#| export\n",
    "\n",
    "def create_iife(code: str) -> str:\n",
    "    \"Wrap javascript code string in an IIFE\"\n",
    "    return f'''\n",
    "(async () => {{\n",
    "{code}\n",
    "}})();\n",
    "'''"
   ]
  },
  {
   "cell_type": "code",
   "execution_count": null,
   "id": "65b73ae9",
   "metadata": {},
   "outputs": [],
   "source": [
    "#| export\n",
    "\n",
    "@dataclass\n",
    "class ToolImageResult:\n",
    "    data: bytes\n",
    "    media_type: str = \"image/jpeg\"\n",
    "    alt_text: str = \"Tool generated image\""
   ]
  },
  {
   "cell_type": "code",
   "execution_count": null,
   "id": "4d753122",
   "metadata": {},
   "outputs": [],
   "source": [
    "#| export\n",
    "\n",
    "def capture_screen(add_note=False):\n",
    "    \"Capture current desktop/screen and insert as image in dialog, returning the screenshot as a ToolImageResult which will be sent back to the API is an image. `persist` determines if the screenshot is added as a note\"\n",
    "    _load_screenshot_js()        \n",
    "    sid = add_msg(\"[Viewing Screen]\", mt=\"note\")\n",
    "    screenshot_code = f'captureScreenAndUpload(\"{sid}\");'    \n",
    "    trigger_script = create_iife(screenshot_code)\n",
    "    add_html(Div(Script(trigger_script), hx_swap_oob=f'beforeend:#js-script'))\n",
    "    max_attempts = 50\n",
    "    for attempt in range(max_attempts):\n",
    "        result = xpost('http://localhost:5001/pop_data_', data={'data_id': sid})\n",
    "        if result.status_code == 200:\n",
    "            try:\n",
    "                if not result.text.strip():\n",
    "                    time.sleep(0.5)\n",
    "                    continue\n",
    "                data = result.json()\n",
    "                assert data is not None\n",
    "                parsed_data = json.loads(data) if isinstance(data, str) else data\n",
    "                print(f\"Parsed data: {parsed_data}\")\n",
    "                if 'error' in parsed_data: return f\"Screenshot failed: {parsed_data['error']}\"\n",
    "                if 'data' in parsed_data:\n",
    "                    inner_data = json.loads(parsed_data['data'])\n",
    "                    if 'img_data' in inner_data and 'img_type' in inner_data:\n",
    "                        if not add_note: del_msg(sid)\n",
    "                        return ToolImageResult(data=inner_data['img_data'], # b64 data\n",
    "                                               media_type=inner_data['img_type'],\n",
    "                                               alt_text=f\"Screenshot captured ({inner_data.get('size', 'unknown')} bytes)\")\n",
    "                return f\"Screenshot data incomplete: {parsed_data}\"\n",
    "            except json.JSONDecodeError as e: print(f\"JSON decode error: {e}, Raw text: '{result.text}'\")\n",
    "            except Exception as e: print(f\"Error processing screenshot data: {e}\")\n",
    "        time.sleep(0.5)\n",
    "    return \"Screenshot capture timed out\""
   ]
  }
 ],
 "metadata": {
  "kernelspec": {
   "display_name": "python3",
   "language": "python",
   "name": "python3"
  }
 },
 "nbformat": 4,
 "nbformat_minor": 5
}
