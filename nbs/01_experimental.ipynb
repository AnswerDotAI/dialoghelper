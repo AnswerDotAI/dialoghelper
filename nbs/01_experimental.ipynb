{
 "cells": [
  {
   "cell_type": "code",
   "execution_count": null,
   "id": "734d385b",
   "metadata": {},
   "outputs": [],
   "source": [
    "#| default_exp experimental"
   ]
  },
  {
   "cell_type": "markdown",
   "id": "d3fd3c98",
   "metadata": {},
   "source": [
    "# experimental\n",
    "\n",
    "> Experimental `dialoghelper` capabilities."
   ]
  },
  {
   "cell_type": "code",
   "execution_count": null,
   "id": "9b3dd8ad",
   "metadata": {},
   "outputs": [],
   "source": [
    "#| export\n",
    "\n",
    "from importlib import resources\n",
    "import uuid\n",
    "from fasthtml.common import Div, Script\n",
    "from time import sleep\n",
    "import base64\n",
    "import json\n",
    "import time\n",
    "from claudette import ToolResult\n",
    "from dialoghelper.core import *\n",
    "from dataclasses import dataclass\n",
    "from httpx import get as xget, post as xpost"
   ]
  },
  {
   "cell_type": "code",
   "execution_count": null,
   "id": "7fec091a",
   "metadata": {},
   "outputs": [],
   "source": [
    "#| export\n",
    "\n",
    "_js_loaded = False\n",
    "\n",
    "def _load_screenshot_js():\n",
    "    \"Load screenshot capability if not already present.\"\n",
    "    global _js_loaded\n",
    "    if _js_loaded:\n",
    "        print(\"screenshot.js already loaded\")\n",
    "        return\n",
    "    js_content = (resources.files('dialoghelper') / 'screenshot.js').read_text()\n",
    "    add_html(Div(Script(js_content), hx_swap_oob='beforeend:#js-script'))\n",
    "    print(\"Added screenshot.js\")\n",
    "    _js_loaded = True"
   ]
  },
  {
   "cell_type": "code",
   "execution_count": null,
   "id": "cc0a282f",
   "metadata": {},
   "outputs": [],
   "source": [
    "#| export\n",
    "\n",
    "_screen_share_active = False\n",
    "\n",
    "def start_screen_share(timeout=30):\n",
    "  \"Start persistent screen sharing session, waiting for confirmation.\"\n",
    "  global _screen_share_active\n",
    "  _load_screenshot_js()\n",
    "  status_id = str(uuid.uuid4())\n",
    "  start_code = f'startPersistentScreenShare(\"{status_id}\");'\n",
    "  trigger_script = create_iife(start_code)\n",
    "  add_html(Div(Script(trigger_script), hx_swap_oob=f'beforeend:#js-script'))\n",
    "  print(\"Waiting for screen share permission...\")\n",
    "  start_time = time.time()\n",
    "  max_attempts = int(timeout * 2)  # Poll every 0.5s\n",
    "  for attempt in range(max_attempts):\n",
    "      result = xpost('http://localhost:5001/pop_data_', data={'data_id': status_id})\n",
    "      if result.status_code == 200 and result.text.strip():\n",
    "          try:\n",
    "              data = result.json()\n",
    "              js_status = data.get('js_status')\n",
    "              if js_status == 'connected':\n",
    "                  _screen_share_active = True\n",
    "                  print(\"✅ Screen share permission granted!\")\n",
    "                  return \"Screen share started successfully.\"\n",
    "              elif js_status == 'error':\n",
    "                  error_msg = data.get('error', 'Unknown error')\n",
    "                  print(f\"❌ Screen share failed: {error_msg}\")\n",
    "                  return f\"Screen share failed: {error_msg}\"\n",
    "              elif js_status == 'connecting':\n",
    "                  print(\"⏳ Still waiting for permission...\")\n",
    "          except json.JSONDecodeError: pass\n",
    "      time.sleep(0.5)\n",
    "  print(\"⏰ Screen share permission timed out\")\n",
    "  return f\"Screen share timed out after {timeout} seconds.\"\n",
    "\n",
    "def stop_screen_share():\n",
    "  \"Stop persistent screen sharing session.\"\n",
    "  global _screen_share_active\n",
    "  stop_code = 'stopPersistentScreenShare();'\n",
    "  trigger_script = create_iife(stop_code)\n",
    "  add_html(Div(Script(trigger_script), hx_swap_oob=f'beforeend:#js-script'))\n",
    "  _screen_share_active = False\n",
    "  return \"Screen share stopped.\""
   ]
  },
  {
   "cell_type": "code",
   "execution_count": null,
   "id": "4865de93",
   "metadata": {},
   "outputs": [],
   "source": [
    "#| export\n",
    "\n",
    "def create_iife(code: str) -> str:\n",
    "    \"Wrap javascript code string in an IIFE\"\n",
    "    return f'''\n",
    "(async () => {{\n",
    "{code}\n",
    "}})();\n",
    "'''"
   ]
  },
  {
   "cell_type": "code",
   "execution_count": null,
   "id": "4d753122",
   "metadata": {},
   "outputs": [],
   "source": [
    "#| export\n",
    "\n",
    "def capture_screen():\n",
    "  \"Capture screenshot, automatically starting screen share if needed.\"\n",
    "  global _screen_share_active\n",
    "  _load_screenshot_js()\n",
    "  if not _screen_share_active:\n",
    "      print(\"🔄 No active screen share, starting one...\")\n",
    "      result = start_screen_share()\n",
    "      if not _screen_share_active: return f\"Failed to start screen share: {result}\"              \n",
    "  data_id = str(uuid.uuid4())\n",
    "  screenshot_code = f'captureScreenFromStream(\"{data_id}\");'\n",
    "  print(\"📸 Capturing from persistent stream...\")\n",
    "  trigger_script = create_iife(screenshot_code)\n",
    "  add_html(Div(Script(trigger_script), hx_swap_oob=f'beforeend:#js-script'))\n",
    "  max_attempts = 20\n",
    "  for attempt in range(max_attempts):\n",
    "      result = xpost('http://localhost:5001/pop_data_', data={'data_id': data_id})\n",
    "      if result.status_code == 200:\n",
    "          try:\n",
    "              if not result.text.strip():\n",
    "                  time.sleep(0.5)\n",
    "                  continue\n",
    "              data = result.json()\n",
    "              if 'error' in data: return f\"Screenshot failed: {data['error']}\"\n",
    "              if 'img_data' in data and 'img_type' in data: return ToolResult(data=data['img_data'], result_type=data['img_type'])\n",
    "              return f\"Screenshot data incomplete: {data}\"\n",
    "          except json.JSONDecodeError as e: print(f\"JSON decode error: {e}, Raw text: '{result.text}'\")\n",
    "          except Exception as e: print(f\"Error processing screenshot data: {e}\")\n",
    "      time.sleep(0.5)\n",
    "  return \"Screenshot capture timed out\""
   ]
  }
 ],
 "metadata": {
  "kernelspec": {
   "display_name": "python3",
   "language": "python",
   "name": "python3"
  }
 },
 "nbformat": 4,
 "nbformat_minor": 5
}
