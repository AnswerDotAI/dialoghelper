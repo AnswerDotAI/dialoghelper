{
 "cells": [
  {
   "cell_type": "code",
   "execution_count": null,
   "id": "734d385b",
   "metadata": {},
   "outputs": [],
   "source": [
    "#| default_exp experimental"
   ]
  },
  {
   "cell_type": "markdown",
   "id": "d3fd3c98",
   "metadata": {},
   "source": [
    "# experimental\n",
    "\n",
    "> Experimental `dialoghelper` capabilities."
   ]
  },
  {
   "cell_type": "code",
   "execution_count": null,
   "id": "9b3dd8ad",
   "metadata": {},
   "outputs": [],
   "source": [
    "#| export\n",
    "\n",
    "from importlib import resources\n",
    "import uuid\n",
    "from fasthtml.common import Div, Script\n",
    "from time import sleep\n",
    "import base64\n",
    "import json\n",
    "import time\n",
    "from claudette import ToolResult\n",
    "from dialoghelper.core import *\n",
    "from dataclasses import dataclass\n",
    "from httpx import get as xget, post as xpost"
   ]
  },
  {
   "cell_type": "code",
   "execution_count": null,
   "id": "7fec091a",
   "metadata": {},
   "outputs": [],
   "source": [
    "#| export\n",
    "\n",
    "_js_loaded = False\n",
    "\n",
    "def _load_screenshot_js():\n",
    "    \"Load screenshot capability if not already present.\"\n",
    "    global _js_loaded\n",
    "    if _js_loaded:\n",
    "        print(\"screenshot.js already loaded\")\n",
    "        return\n",
    "    js_content = (resources.files('dialoghelper') / 'screenshot.js').read_text()\n",
    "    add_html(Div(Script(js_content), hx_swap_oob='beforeend:#js-script'))\n",
    "    print(\"Added screenshot.js\")\n",
    "    _js_loaded = True"
   ]
  },
  {
   "cell_type": "code",
   "execution_count": null,
   "id": "4865de93",
   "metadata": {},
   "outputs": [],
   "source": [
    "#| export\n",
    "\n",
    "def create_iife(code: str) -> str:\n",
    "    \"Wrap javascript code string in an IIFE\"\n",
    "    return f'''\n",
    "(async () => {{\n",
    "{code}\n",
    "}})();\n",
    "'''"
   ]
  },
  {
   "cell_type": "code",
   "execution_count": null,
   "id": "4d753122",
   "metadata": {},
   "outputs": [],
   "source": [
    "#| export\n",
    "\n",
    "def capture_screen():\n",
    "    \"Capture current desktop returning the screenshot as a ToolImageResult.\"\n",
    "    _load_screenshot_js()        \n",
    "    data_id = str(uuid.uuid4())  # Generate random ID for data communication\n",
    "    screenshot_code = f'captureScreenAndUpload(\"{data_id}\");'\n",
    "    trigger_script = create_iife(screenshot_code)\n",
    "    add_html(Div(Script(trigger_script), hx_swap_oob=f'beforeend:#js-script'))\n",
    "    max_attempts = 50\n",
    "    for attempt in range(max_attempts):\n",
    "        result = xpost('http://localhost:5001/pop_data_', data={'data_id': data_id})\n",
    "        if result.status_code == 200:\n",
    "            try:\n",
    "                if not result.text.strip():\n",
    "                    time.sleep(0.5)\n",
    "                    continue\n",
    "                data = result.json() # data is a dict\n",
    "                if 'error' in data: return f\"Screenshot failed: {data['error']}\"\n",
    "                if 'img_data' in data and 'img_type' in data:\n",
    "                    return ToolResult(data=data['img_data'], result_type=data['img_type'])\n",
    "                return f\"Screenshot data incomplete: {data}\"\n",
    "            except json.JSONDecodeError as e: print(f\"JSON decode error: {e}, Raw text: '{result.text}'\")\n",
    "            except Exception as e: print(f\"Error processing screenshot data: {e}\")\n",
    "        time.sleep(0.5)\n",
    "    return \"Screenshot capture timed out\""
   ]
  }
 ],
 "metadata": {
  "kernelspec": {
   "display_name": "python3",
   "language": "python",
   "name": "python3"
  }
 },
 "nbformat": 4,
 "nbformat_minor": 5
}
