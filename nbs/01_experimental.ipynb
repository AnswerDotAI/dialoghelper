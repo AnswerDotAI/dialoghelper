{
 "cells": [
  {
   "cell_type": "code",
   "execution_count": null,
   "id": "734d385b",
   "metadata": {},
   "outputs": [],
   "source": [
    "#| default_exp experimental"
   ]
  },
  {
   "cell_type": "markdown",
   "id": "d3fd3c98",
   "metadata": {},
   "source": [
    "# experimental\n",
    "\n",
    "> Experimental `dialoghelper` capabilities."
   ]
  },
  {
   "cell_type": "code",
   "execution_count": null,
   "id": "9b3dd8ad",
   "metadata": {},
   "outputs": [],
   "source": [
    "#| export\n",
    "\n",
    "from importlib import resources\n",
    "import uuid\n",
    "from fasthtml.common import Div, Script\n",
    "import json\n",
    "from claudette import ToolResult\n",
    "from dialoghelper.core import *\n",
    "from httpx import post as xpost"
   ]
  },
  {
   "cell_type": "code",
   "execution_count": null,
   "id": "a76d6f7d",
   "metadata": {},
   "outputs": [],
   "source": [
    "#| export\n",
    "def _pop_data(data_id, timeout=20, condition=None, fail_msg = \"`_pop_data` failed to return a value.\"):\n",
    "  result = xpost('http://localhost:5001/pop_data_blocking_', data={'data_id': data_id}, timeout=timeout)\n",
    "  if result.status_code == 200 and result.text.strip():\n",
    "      try:\n",
    "        if (data := result.json()) and (not condition or condition(data)): return data\n",
    "      except json.JSONDecodeError as e: print(f\"JSON decode error: {e}\")\n",
    "  raise RuntimeError(fail_msg)"
   ]
  },
  {
   "cell_type": "code",
   "execution_count": null,
   "id": "cf981998",
   "metadata": {},
   "outputs": [],
   "source": [
    "#| export\n",
    "\n",
    "def iife(code: str) -> str:\n",
    "    \"Wrap javascript code string in an IIFE and execute it via `add_html`\"\n",
    "    trigger_script = f'''\n",
    "(async () => {{\n",
    "{code}\n",
    "}})();\n",
    "'''\n",
    "    add_html(Div(Script(trigger_script), hx_swap_oob=f'beforeend:#js-script'))"
   ]
  },
  {
   "cell_type": "code",
   "execution_count": null,
   "id": "0a90417f",
   "metadata": {},
   "outputs": [],
   "source": [
    "#| export\n",
    "\n",
    "_js_loaded = False\n",
    "\n",
    "def load_screenshot_js(force=False, timeout=5):\n",
    "    \"Load screenshot capability and wait for confirmation it's ready.\"\n",
    "    global _js_loaded\n",
    "    if _js_loaded and not force: return\n",
    "    print(\"Loading screenshot.js ...\")\n",
    "    status_id = str(uuid.uuid4())\n",
    "    js_content = (resources.files('dialoghelper') / 'screenshot.js').read_text()    \n",
    "    iife(js_content + f'sendDataToServer(\"{status_id}\", {{\"js_status\": \"ready\"}});')\n",
    "    data = _pop_data(status_id, timeout, condition=lambda d: d.get('js_status') == 'ready', fail_msg=\"Failed to load screenshot.js.\")\n",
    "    _js_loaded = True\n",
    "    print(\"Screenshot.js loaded and ready\")        "
   ]
  },
  {
   "cell_type": "code",
   "execution_count": null,
   "id": "cc0a282f",
   "metadata": {},
   "outputs": [],
   "source": [
    "#| export\n",
    "\n",
    "_screen_share_active = False\n",
    "\n",
    "def start_screen_share(timeout=45):\n",
    "    \"Start persistent screen sharing session, waiting for confirmation.\"\n",
    "    global _screen_share_active\n",
    "    load_screenshot_js()\n",
    "    status_id = str(uuid.uuid4())\n",
    "    iife(f'startPersistentScreenShare(\"{status_id}\");')\n",
    "    print(\"Requesting screen share permission ...\")\n",
    "    data = _pop_data(status_id, timeout, condition=lambda d: d.get('js_status') == 'ready', fail_msg=\"Screen share failed.\")\n",
    "    js_status = data.get('js_status')\n",
    "    if js_status == 'ready':\n",
    "        _screen_share_active = True\n",
    "        print(\"Screen share started successfully.\")\n",
    "    elif js_status == 'error': raise RuntimeError(f\"Screen share failed: {data.get('error', 'Unknown error')}\")\n",
    "    elif js_status == 'connecting': raise RuntimeError(\"Screen share timed out after {timeout} seconds.\")"
   ]
  },
  {
   "cell_type": "code",
   "execution_count": null,
   "id": "c6c15d5e",
   "metadata": {},
   "outputs": [],
   "source": [
    "#| export\n",
    "\n",
    "def stop_screen_share():\n",
    "  \"Stop persistent screen sharing session.\"\n",
    "  global _screen_share_active\n",
    "  load_screenshot_js()\n",
    "  iife('stopPersistentScreenShare();')\n",
    "  _screen_share_active = False\n",
    "  print(\"Screen share stopped.\")"
   ]
  },
  {
   "cell_type": "code",
   "execution_count": null,
   "id": "06bfb60a",
   "metadata": {},
   "outputs": [],
   "source": [
    "#| export\n",
    "\n",
    "def capture_screen():\n",
    "    \"Capture screenshot, automatically starting screen share if needed.\"\n",
    "    global _screen_share_active\n",
    "    load_screenshot_js()\n",
    "    if not _screen_share_active:\n",
    "        print(\"🔄 No active screen share, starting one...\")\n",
    "        result = start_screen_share()\n",
    "        if not _screen_share_active: raise RuntimeError(f\"Failed to start screen share: {result}\")\n",
    "    data_id = str(uuid.uuid4())\n",
    "    screenshot_code = f'captureScreenFromStream(\"{data_id}\");'\n",
    "    print(\"📸 Capturing from persistent stream...\")\n",
    "    iife(screenshot_code)\n",
    "    data = _pop_data(data_id, timeout=5, condition=lambda d: 'img_data' in d and 'img_type' in d, fail_msg=\"Screenshot capture failed, failed to retrieve data.\")\n",
    "    if 'error' in data: raise RuntimeError(f\"Screenshot failed: {data['error']}\")\n",
    "    return ToolResult(data=data['img_data'], result_type=data['img_type'])"
   ]
  }
 ],
 "metadata": {
  "kernelspec": {
   "display_name": "python3",
   "language": "python",
   "name": "python3"
  }
 },
 "nbformat": 4,
 "nbformat_minor": 5
}
