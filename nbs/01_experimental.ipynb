{
 "cells": [
  {
   "cell_type": "code",
   "execution_count": null,
   "id": "734d385b",
   "metadata": {},
   "outputs": [],
   "source": [
    "#| default_exp experimental"
   ]
  },
  {
   "cell_type": "markdown",
   "id": "d3fd3c98",
   "metadata": {},
   "source": [
    "# experimental\n",
    "\n",
    "> Experimental `dialoghelper` capabilities."
   ]
  },
  {
   "cell_type": "code",
   "execution_count": null,
   "id": "9b3dd8ad",
   "metadata": {},
   "outputs": [],
   "source": [
    "#| export\n",
    "\n",
    "from importlib import resources\n",
    "import uuid\n",
    "from fasthtml.common import Div, Script\n",
    "from time import sleep\n",
    "import base64\n",
    "import json\n",
    "import time\n",
    "from claudette import ToolResult\n",
    "from dialoghelper.core import *\n",
    "from dataclasses import dataclass\n",
    "from httpx import get as xget, post as xpost"
   ]
  },
  {
   "cell_type": "code",
   "execution_count": null,
   "id": "ab1ef722",
   "metadata": {},
   "outputs": [],
   "source": [
    "#| export\n",
    "\n",
    "def _wait_for_pop_data(data_id, timeout=20, retry_interval=1, condition=None):\n",
    "    \"Wait for data from pop endpoint with optional condition validation.\"\n",
    "    max_attempts = int(timeout / retry_interval)\n",
    "    for attempt in range(max_attempts):\n",
    "        result = xpost('http://localhost:5001/pop_data_', data={'data_id': data_id})\n",
    "        if result.status_code == 200 and result.text.strip():\n",
    "            try:\n",
    "                data = result.json()\n",
    "                if condition and not condition(data):\n",
    "                    time.sleep(retry_interval)\n",
    "                    continue\n",
    "                return data\n",
    "            except json.JSONDecodeError: pass\n",
    "        time.sleep(retry_interval)\n",
    "    return None"
   ]
  },
  {
   "cell_type": "code",
   "execution_count": null,
   "id": "64a9a8d4",
   "metadata": {},
   "outputs": [],
   "source": [
    "#| export\n",
    "def _wait_for_pop_data_async(data_id, timeout=20, condition=None):\n",
    "  \"Wait for data from async pop endpoint with optional condition validation.\"\n",
    "  result = xpost('http://localhost:5001/pop_data_async_', data={'data_id': data_id},\n",
    "timeout=timeout)\n",
    "  if result.status_code == 200 and result.text.strip():\n",
    "      try:\n",
    "          data = result.json()\n",
    "          if condition and not condition(data): return None\n",
    "          return data\n",
    "      except json.JSONDecodeError: pass\n",
    "  return None"
   ]
  },
  {
   "cell_type": "code",
   "execution_count": null,
   "id": "0a90417f",
   "metadata": {},
   "outputs": [],
   "source": [
    "#| export\n",
    "\n",
    "_js_loaded = False\n",
    "\n",
    "def _load_screenshot_js(timeout=10, retry_interval=1):\n",
    "    \"Load screenshot capability and wait for confirmation it's ready.\"\n",
    "    global _js_loaded\n",
    "    if _js_loaded: return True    \n",
    "    js_content = (resources.files('dialoghelper') / 'screenshot.js').read_text()\n",
    "    ready_id = str(uuid.uuid4())\n",
    "    js_with_ready = js_content + f'\\n\\n// Signal ready\\nsendDataToServer(\"{ready_id}\", {{\"js_status\": \"ready\"}});'\n",
    "    add_html(Div(Script(js_with_ready), hx_swap_oob='beforeend:#js-script'))\n",
    "    print(\"Loading screenshot.js ...\")    \n",
    "    data = _wait_for_pop_data(ready_id, timeout, retry_interval, condition=lambda d: d.get('js_status') == 'ready')\n",
    "    if data and data.get('js_status') == 'ready':\n",
    "        _js_loaded = True\n",
    "        print(\"Screenshot.js loaded and ready\")\n",
    "        return True\n",
    "    else:\n",
    "        print(\"Failed to load screenshot.js\")\n",
    "        return False"
   ]
  },
  {
   "cell_type": "code",
   "execution_count": null,
   "id": "2f4a0261",
   "metadata": {},
   "outputs": [],
   "source": [
    "#| export\n",
    "\n",
    "def iife(code: str) -> str:\n",
    "    \"Wrap javascript code string in an IIFE\"\n",
    "    return f'''\n",
    "(async () => {{\n",
    "{code}\n",
    "}})();\n",
    "'''"
   ]
  },
  {
   "cell_type": "code",
   "execution_count": null,
   "id": "cc0a282f",
   "metadata": {},
   "outputs": [],
   "source": [
    "#| export\n",
    "\n",
    "_screen_share_active = False\n",
    "\n",
    "def start_screen_share(timeout=30, retry_interval=1):\n",
    "    \"Start persistent screen sharing session, waiting for confirmation.\"\n",
    "    global _screen_share_active\n",
    "    _load_screenshot_js()\n",
    "    status_id = str(uuid.uuid4())\n",
    "    trigger_script = iife(f'startPersistentScreenShare(\"{status_id}\");')\n",
    "    add_html(Div(Script(trigger_script), hx_swap_oob=f'beforeend:#js-script'))\n",
    "    print(\"Requesting screen share permission ...\")\n",
    "    data = _wait_for_pop_data(status_id, timeout, retry_interval, condition=lambda d: d.get('js_status') == 'ready')\n",
    "    if not data: print(f\"Screen share timed out after {timeout} seconds.\")\n",
    "    js_status = data.get('js_status')\n",
    "    if js_status == 'ready':\n",
    "        _screen_share_active = True\n",
    "        print(\"Screen share started successfully.\")\n",
    "    elif js_status == 'error': print(f\"Screen share failed: {data.get('error', 'Unknown error')}\")\n",
    "    elif js_status == 'connecting': print(\"Screen share timed out after {timeout} seconds.\")"
   ]
  },
  {
   "cell_type": "code",
   "execution_count": null,
   "id": "c6c15d5e",
   "metadata": {},
   "outputs": [],
   "source": [
    "#| export\n",
    "\n",
    "def stop_screen_share():\n",
    "  \"Stop persistent screen sharing session.\"\n",
    "  global _screen_share_active\n",
    "  _load_screenshot_js()\n",
    "  trigger_script = iife('stopPersistentScreenShare();')\n",
    "  add_html(Div(Script(trigger_script), hx_swap_oob=f'beforeend:#js-script'))\n",
    "  _screen_share_active = False\n",
    "  print(\"Screen share stopped.\")"
   ]
  },
  {
   "cell_type": "code",
   "execution_count": null,
   "id": "06bfb60a",
   "metadata": {},
   "outputs": [],
   "source": [
    "#| export\n",
    "\n",
    "def capture_screen():\n",
    "    \"Capture screenshot, automatically starting screen share if needed.\"\n",
    "    global _screen_share_active\n",
    "    _load_screenshot_js()\n",
    "    if not _screen_share_active:\n",
    "        print(\"🔄 No active screen share, starting one...\")\n",
    "        result = start_screen_share()\n",
    "        if not _screen_share_active: return f\"Failed to start screen share: {result}\"\n",
    "    data_id = str(uuid.uuid4())\n",
    "    screenshot_code = f'captureScreenFromStream(\"{data_id}\");'\n",
    "    print(\"📸 Capturing from persistent stream...\")\n",
    "    trigger_script = iife(screenshot_code)\n",
    "    add_html(Div(Script(trigger_script), hx_swap_oob=f'beforeend:#js-script'))\n",
    "    data = _wait_for_pop_data(data_id, timeout=10, retry_interval=1, condition=lambda d: 'img_data' in d and 'img_type' in d)\n",
    "    if not data: return \"Screenshot capture timed out\"\n",
    "    if 'error' in data: return f\"Screenshot failed: {data['error']}\"\n",
    "    return ToolResult(data=data['img_data'], result_type=data['img_type'])"
   ]
  }
 ],
 "metadata": {
  "kernelspec": {
   "display_name": "python3",
   "language": "python",
   "name": "python3"
  }
 },
 "nbformat": 4,
 "nbformat_minor": 5
}
