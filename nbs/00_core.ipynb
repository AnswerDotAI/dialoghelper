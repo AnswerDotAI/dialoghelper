{
 "cells": [
  {
   "cell_type": "code",
   "execution_count": null,
   "id": "955b9784",
   "metadata": {},
   "outputs": [],
   "source": [
    "#| default_exp core"
   ]
  },
  {
   "cell_type": "markdown",
   "id": "0aafe008",
   "metadata": {},
   "source": [
    "# dialoghelper"
   ]
  },
  {
   "cell_type": "code",
   "execution_count": null,
   "id": "e881cda4",
   "metadata": {},
   "outputs": [],
   "source": [
    "#| export\n",
    "import json, importlib, linecache\n",
    "from typing import Dict\n",
    "from tempfile import TemporaryDirectory\n",
    "from ipykernel_helper import *\n",
    "from dataclasses import dataclass\n",
    "from fastcore.xml import to_xml\n",
    "\n",
    "from fastcore.utils import *\n",
    "from fastcore.meta import delegates\n",
    "from ghapi.all import *\n",
    "from fastlite import *\n",
    "from fastcore.xtras import asdict\n",
    "from inspect import currentframe,Parameter,signature\n",
    "from httpx import get as xget, post as xpost\n",
    "from IPython.display import display,Markdown"
   ]
  },
  {
   "cell_type": "code",
   "execution_count": null,
   "id": "0eac27d1",
   "metadata": {},
   "outputs": [],
   "source": [
    "from fastcore import tools"
   ]
  },
  {
   "cell_type": "code",
   "execution_count": null,
   "id": "f80e3a63",
   "metadata": {},
   "outputs": [],
   "source": [
    "#| export\n",
    "def _find_frame_dict(var:str):\n",
    "    \"Find the dict (globals or locals) containing var\"\n",
    "    frame = currentframe().f_back.f_back\n",
    "    while frame:\n",
    "        if var in frame.f_globals: return frame.f_globals\n",
    "        frame = frame.f_back\n",
    "    raise ValueError(f\"Could not find {var} in any scope\")\n",
    "\n",
    "def find_var(var:str):\n",
    "    \"Search for var in all frames of the call stack\"\n",
    "    return _find_frame_dict(var)[var]\n",
    "    \n",
    "def set_var(var:str, val):\n",
    "    \"Set var to val after finding it in all frames of the call stack\"\n",
    "    _find_frame_dict(var)[var] = val"
   ]
  },
  {
   "cell_type": "code",
   "execution_count": null,
   "id": "bb0489a1",
   "metadata": {},
   "outputs": [
    {
     "data": {
      "text/plain": [
       "1"
      ]
     },
     "execution_count": null,
     "metadata": {},
     "output_type": "execute_result"
    }
   ],
   "source": [
    "a = 1\n",
    "find_var('a')"
   ]
  },
  {
   "cell_type": "code",
   "execution_count": null,
   "id": "cec6f088",
   "metadata": {},
   "outputs": [
    {
     "data": {
      "text/plain": [
       "42"
      ]
     },
     "execution_count": null,
     "metadata": {},
     "output_type": "execute_result"
    }
   ],
   "source": [
    "set_var('a', 42)\n",
    "a"
   ]
  },
  {
   "cell_type": "code",
   "execution_count": null,
   "id": "dbffb51c",
   "metadata": {},
   "outputs": [],
   "source": [
    "#| export\n",
    "dh_settings = {'port':5001}\n",
    "\n",
    "def call_endp(path, dname='', json=False, raiseex=False, **data):\n",
    "    if not dname: dname = find_dname()\n",
    "    data['dlg_name'] = dname\n",
    "    res = xpost(f'http://localhost:{dh_settings[\"port\"]}/{path}', data=data)\n",
    "    if raiseex: res.raise_for_status()\n",
    "    try: return res.json() if json else res.text\n",
    "    except Exception as e: return str(e)"
   ]
  },
  {
   "cell_type": "code",
   "execution_count": null,
   "id": "a01ad161",
   "metadata": {},
   "outputs": [],
   "source": [
    "#| export\n",
    "def find_dname():\n",
    "    \"Get the message id by searching the call stack for __dialog_id.\"\n",
    "    return find_var('__dialog_name')"
   ]
  },
  {
   "cell_type": "code",
   "execution_count": null,
   "id": "3d93b27c",
   "metadata": {},
   "outputs": [],
   "source": [
    "#| export\n",
    "def find_msg_id():\n",
    "    \"Get the message id by searching the call stack for __dialog_id.\"\n",
    "    return find_var('__msg_id')"
   ]
  },
  {
   "cell_type": "code",
   "execution_count": null,
   "id": "9cbd170d",
   "metadata": {},
   "outputs": [
    {
     "data": {
      "text/plain": [
       "'_9cbd170d'"
      ]
     },
     "execution_count": null,
     "metadata": {},
     "output_type": "execute_result"
    }
   ],
   "source": [
    "find_msg_id()"
   ]
  },
  {
   "cell_type": "code",
   "execution_count": null,
   "id": "a9cb5512",
   "metadata": {},
   "outputs": [],
   "source": [
    "#| export\n",
    "def curr_dialog(\n",
    "    with_messages:bool=False,  # Include messages as well?\n",
    "    dname:str='' # Running dialog to get info for; defaults to current dialog\n",
    "):\n",
    "    \"Get the current dialog info.\"\n",
    "    res = call_endp('curr_dialog_', dname, json=True, with_messages=with_messages)\n",
    "    if res: return {'name': res['name'], 'mode': res['mode']}"
   ]
  },
  {
   "cell_type": "code",
   "execution_count": null,
   "id": "6a4aa03b",
   "metadata": {},
   "outputs": [],
   "source": [
    "#| export\n",
    "def find_msgs(\n",
    "    re_pattern:str='', # Optional regex to search for (re.DOTALL+re.MULTILINE is used)\n",
    "    msg_type:str=None, # optional limit by message type ('code', 'note', or 'prompt')\n",
    "    limit:int=None, # Optionally limit number of returned items\n",
    "    include_output:bool=True, # Include output in returned dict?\n",
    "    dname:str='' # Running dialog to get info for; defaults to current dialog\n",
    "):\n",
    "    \"Find `list[dict]` of messages in current specific dialog that contain the given information. To refer to a message found later, use its `id` field.\"\n",
    "    res = call_endp('find_msgs_', dname, json=True, re_pattern=re_pattern, msg_type=msg_type, limit=limit)['msgs']\n",
    "    if not include_output:\n",
    "        for o in res: o.pop('output', None)\n",
    "    return res"
   ]
  },
  {
   "cell_type": "code",
   "execution_count": null,
   "id": "aa444dff",
   "metadata": {},
   "outputs": [
    {
     "data": {
      "text/plain": [
       "'from fastcore import tools'"
      ]
     },
     "execution_count": null,
     "metadata": {},
     "output_type": "execute_result"
    }
   ],
   "source": [
    "# NB: must have a dialogue open including a message with this text in its content\n",
    "txt = 'tools'\n",
    "found = find_msgs(txt)\n",
    "found[0]['content']"
   ]
  },
  {
   "cell_type": "code",
   "execution_count": null,
   "id": "19d00175",
   "metadata": {},
   "outputs": [],
   "source": [
    "#| export\n",
    "def msg_idx(\n",
    "    msgid=None,  # Message id to find (defaults to current message)\n",
    "    dname:str='' # Running dialog to get info for; defaults to current dialog\n",
    "):\n",
    "    \"Get absolute index of message in dialog.\"\n",
    "    if not msgid: msgid = find_msg_id()\n",
    "    return call_endp('msg_idx_', dname, json=True, msgid=msgid)['msgid']"
   ]
  },
  {
   "cell_type": "code",
   "execution_count": null,
   "id": "97cf9c42",
   "metadata": {},
   "outputs": [
    {
     "data": {
      "text/plain": [
       "15"
      ]
     },
     "execution_count": null,
     "metadata": {},
     "output_type": "execute_result"
    }
   ],
   "source": [
    "msg_idx()"
   ]
  },
  {
   "cell_type": "code",
   "execution_count": null,
   "id": "2489a94d",
   "metadata": {},
   "outputs": [],
   "source": [
    "#| export\n",
    "def add_html(\n",
    "    content:str, # The HTML to send to the client (generally should include hx-swap-oob)\n",
    "    dname:str='' # Running dialog to get info for; defaults to current dialog\n",
    "):\n",
    "    \"Send HTML to the browser to be swapped into the DOM\"\n",
    "    call_endp('add_html_', dname, content=to_xml(content))"
   ]
  },
  {
   "cell_type": "code",
   "execution_count": null,
   "id": "0657b2ca",
   "metadata": {},
   "outputs": [],
   "source": [
    "from fasthtml.common import *"
   ]
  },
  {
   "cell_type": "code",
   "execution_count": null,
   "id": "788a9150",
   "metadata": {},
   "outputs": [],
   "source": [
    "add_html(Div(P('Hi'), hx_swap_oob='beforeend:#dialog-container'))"
   ]
  },
  {
   "cell_type": "code",
   "execution_count": null,
   "id": "fdc5a465",
   "metadata": {},
   "outputs": [],
   "source": [
    "#| export\n",
    "Placements = str_enum('Placements', 'add_after', 'add_before', 'at_start', 'at_end')"
   ]
  },
  {
   "cell_type": "code",
   "execution_count": null,
   "id": "3ad14786",
   "metadata": {},
   "outputs": [],
   "source": [
    "#| export\n",
    "def add_msg(\n",
    "    content:str, # Content of the message (i.e the message prompt, code, or note text)\n",
    "    placement:str='add_after', # Can be 'add_after', 'add_before', 'at_start', 'at_end'\n",
    "    msgid:str=None, # id of message that placement is relative to (if None, uses current message)\n",
    "    msg_type: str='note', # Message type, can be 'code', 'note', or 'prompt'\n",
    "    output:str='', # For prompts/code, initial output\n",
    "    time_run: str | None = '', # When was message executed\n",
    "    is_exported: int | None = 0, # Export message to a module?\n",
    "    skipped: int | None = 0, # Hide message from prompt?\n",
    "    i_collapsed: int | None = 0, # Collapse input?\n",
    "    o_collapsed: int | None = 0, # Collapse output?\n",
    "    heading_collapsed: int | None = 0, # Collapse heading section?\n",
    "    pinned: int | None = 0, # Pin to context?\n",
    "    dname:str='' # Running dialog to get info for; defaults to current dialog\n",
    "):\n",
    "    \"Add/update a message to the queue to show after code execution completes.\"\n",
    "    if placement not in ('at_start','at_end') and not msgid: msgid = find_msg_id()\n",
    "    res = call_endp(\n",
    "        'add_relative_', dname, content=content, placement=placement, msgid=msgid, msg_type=msg_type, output=output,\n",
    "        time_run=time_run, is_exported=is_exported, skipped=skipped, pinned=pinned,\n",
    "        i_collapsed=i_collapsed, o_collapsed=o_collapsed, heading_collapsed=heading_collapsed)\n",
    "    set_var('__msg_id', res)\n",
    "    return res"
   ]
  },
  {
   "cell_type": "code",
   "execution_count": null,
   "id": "9c544573",
   "metadata": {},
   "outputs": [
    {
     "name": "stdout",
     "output_type": "stream",
     "text": [
      "_9c544573\n",
      "_34f2d6f2\n"
     ]
    }
   ],
   "source": [
    "print(__msg_id)\n",
    "_id = add_msg('testing')\n",
    "print(__msg_id)"
   ]
  },
  {
   "cell_type": "code",
   "execution_count": null,
   "id": "f1ee1903",
   "metadata": {},
   "outputs": [],
   "source": [
    "#| export\n",
    "def del_msg(\n",
    "    msgid:str=None, # id of message to delete\n",
    "    dname:str='' # Running dialog to get info for; defaults to current dialog\n",
    "):\n",
    "    \"Delete a message from the dialog.\"\n",
    "    call_endp('rm_msg_', dname, raiseex=True, msid=msgid)"
   ]
  },
  {
   "cell_type": "code",
   "execution_count": null,
   "id": "9c6c959b",
   "metadata": {},
   "outputs": [],
   "source": [
    "del_msg(_id)"
   ]
  },
  {
   "cell_type": "code",
   "execution_count": null,
   "id": "a9614fcc",
   "metadata": {},
   "outputs": [],
   "source": [
    "#| export\n",
    "@delegates(add_msg)\n",
    "def _add_msg_unsafe(\n",
    "    content:str, # Content of the message (i.e the message prompt, code, or note text)\n",
    "    placement:str='add_after', # Can be 'add_after', 'add_before', 'at_start', 'at_end'\n",
    "    msgid:str=None, # id of message that placement is relative to (if None, uses current message)\n",
    "    run:bool=False, # For prompts, send it to the AI; for code, execute it (*DANGEROUS -- be careful of what you run!)\n",
    "    dname:str='', # Running dialog to get info for; defaults to current dialog\n",
    "    **kwargs\n",
    "):\n",
    "    \"\"\"Add/update a message to the queue to show after code execution completes, and optionally run it. Be sure to pass a `sid` (stable id) not a `mid` (which is used only for sorting, and can change).\n",
    "    *WARNING*--This can execute arbitrary code, so check carefully what you run!--*WARNING\"\"\"\n",
    "    if placement not in ('at_start','at_end') and not msgid: msgid = find_msg_id()\n",
    "    res = call_endp(\n",
    "        'add_relative_', dname, content=content, placement=placement, msgid=msgid, run=run, **kwargs)\n",
    "    set_var('__msg_id', res)\n",
    "    return res"
   ]
  },
  {
   "cell_type": "code",
   "execution_count": null,
   "id": "44cb1b2a",
   "metadata": {},
   "outputs": [],
   "source": [
    "_id = _add_msg_unsafe('1+1', run=True, msg_type='code')"
   ]
  },
  {
   "cell_type": "code",
   "execution_count": null,
   "id": "8f1e0ee6",
   "metadata": {},
   "outputs": [],
   "source": [
    "del_msg(_id)"
   ]
  },
  {
   "cell_type": "code",
   "execution_count": null,
   "id": "da3525d7",
   "metadata": {},
   "outputs": [],
   "source": [
    "_id = _add_msg_unsafe('Hi', run=True, msg_type='prompt')"
   ]
  },
  {
   "cell_type": "code",
   "execution_count": null,
   "id": "4b0077ef",
   "metadata": {},
   "outputs": [],
   "source": [
    "del_msg(_id)"
   ]
  },
  {
   "cell_type": "code",
   "execution_count": null,
   "id": "023dcb74",
   "metadata": {},
   "outputs": [],
   "source": [
    "#| export\n",
    "def _umsg(\n",
    "    content:str|None=None, # Content of the message (i.e the message prompt, code, or note text)\n",
    "    msg_type: str|None = None, # Message type, can be 'code', 'note', or 'prompt'\n",
    "    output:str|None = None, # For prompts/code, the output\n",
    "    time_run: str | None = None, # When was message executed\n",
    "    is_exported: int | None = None, # Export message to a module?\n",
    "    skipped: int | None = None, # Hide message from prompt?\n",
    "    i_collapsed: int | None = None, # Collapse input?\n",
    "    o_collapsed: int | None = None, # Collapse output?\n",
    "    heading_collapsed: int | None = None, # Collapse heading section?\n",
    "    pinned: int | None = None # Pin to context?\n",
    "): ..."
   ]
  },
  {
   "cell_type": "code",
   "execution_count": null,
   "id": "76ea5418",
   "metadata": {},
   "outputs": [],
   "source": [
    "#| export\n",
    "@delegates(_umsg)\n",
    "def update_msg(\n",
    "    msgid:str=None, # id of message to update (if None, uses current message)\n",
    "    msg:Optional[Dict]=None, # Dictionary of field keys/values to update\n",
    "    dname:str='', # Running dialog to get info for; defaults to current dialog\n",
    "    **kwargs):\n",
    "    \"\"\"Update an existing message. Provide either `msg` OR field key/values to update.\n",
    "    Use `content` param to update contents.\n",
    "    Only include parameters to update--missing ones will be left unchanged.\"\"\"\n",
    "    if not msgid and not msg: raise TypeError(\"update_msg needs either a dict message or `msgid=`\")\n",
    "    res = call_endp('add_relative_', dname, placement='update', msgid=msgid, **kwargs)\n",
    "    set_var('__msg_id', res)\n",
    "    return res"
   ]
  },
  {
   "cell_type": "code",
   "execution_count": null,
   "id": "4df69d72",
   "metadata": {},
   "outputs": [],
   "source": [
    "_id = add_msg('testing')"
   ]
  },
  {
   "cell_type": "code",
   "execution_count": null,
   "id": "05b509a7",
   "metadata": {},
   "outputs": [],
   "source": [
    "_id = update_msg(_id, content='toasting')"
   ]
  },
  {
   "cell_type": "code",
   "execution_count": null,
   "id": "8eaf1438",
   "metadata": {},
   "outputs": [],
   "source": [
    "_id = update_msg(_id, skipped=1)"
   ]
  },
  {
   "cell_type": "code",
   "execution_count": null,
   "id": "ae95747a",
   "metadata": {},
   "outputs": [],
   "source": [
    "del_msg(_id)"
   ]
  },
  {
   "cell_type": "code",
   "execution_count": null,
   "id": "1b6f96c7",
   "metadata": {},
   "outputs": [],
   "source": [
    "#| export\n",
    "def url2note(\n",
    "    url:str, # URL to read\n",
    "    extract_section:bool=True, # If url has an anchor, return only that section\n",
    "    selector:str=None # Select section(s) using BeautifulSoup.select (overrides extract_section)\n",
    "):\n",
    "    \"Read URL as markdown, and add a note below current message with the result\"\n",
    "    res = read_url(url, as_md=True, extract_section=extract_section, selector=selector)\n",
    "    return add_msg(res)"
   ]
  },
  {
   "cell_type": "code",
   "execution_count": null,
   "id": "fff18bc3",
   "metadata": {},
   "outputs": [],
   "source": [
    "_id = url2note('https://www.example.org')"
   ]
  },
  {
   "cell_type": "code",
   "execution_count": null,
   "id": "eef90eee",
   "metadata": {},
   "outputs": [],
   "source": [
    "del_msg(_id)"
   ]
  },
  {
   "cell_type": "code",
   "execution_count": null,
   "id": "7fd95bdf",
   "metadata": {},
   "outputs": [],
   "source": [
    "#| export\n",
    "def ast_py(code:str):\n",
    "    \"Get an SgRoot root node for python `code`\"\n",
    "    from ast_grep_py import SgRoot\n",
    "    return SgRoot(code, \"python\").root()"
   ]
  },
  {
   "cell_type": "code",
   "execution_count": null,
   "id": "af5a9dfe",
   "metadata": {},
   "outputs": [
    {
     "data": {
      "text/plain": [
       "(\"'hello world'\",\n",
       " Range(start=Pos(line=0, col=6, index=6), end=Pos(line=0, col=19, index=19)))"
      ]
     },
     "execution_count": null,
     "metadata": {},
     "output_type": "execute_result"
    }
   ],
   "source": [
    "node = ast_py(\"print('hello world')\")\n",
    "stmt = node.find(pattern=\"print($A)\")\n",
    "res = stmt.get_match('A')\n",
    "res.text(),res.range()"
   ]
  },
  {
   "cell_type": "code",
   "execution_count": null,
   "id": "013f0d0b",
   "metadata": {},
   "outputs": [],
   "source": [
    "#| export\n",
    "def ast_grep(\n",
    "    pattern:str, # ast-grep pattern to search\n",
    "    path=\".\", # path to recursively search for files\n",
    "    lang=\"python\" # language to search/scan\n",
    "):\n",
    "    \"Use the `ast-grep` command to find `pattern` in `path`\"\n",
    "    import json, subprocess\n",
    "    cmd = f\"ast-grep --pattern '{pattern}' --lang {lang} --json=compact\"\n",
    "    if path != \".\": cmd = f\"cd {path} && {cmd}\"\n",
    "    res = subprocess.run(cmd, shell=True, capture_output=True, text=True)\n",
    "    return json.loads(res.stdout) if res.stdout else res.stderr"
   ]
  },
  {
   "cell_type": "code",
   "execution_count": null,
   "id": "1998094e",
   "metadata": {},
   "outputs": [
    {
     "data": {
      "text/plain": [
       "[('xpost(f\\'http://localhost:{dh_settings[\"port\"]}/{path}\\', data=data)',\n",
       "  {'A': {'text': 'f\\'http://localhost:{dh_settings[\"port\"]}/{path}\\'',\n",
       "    'range': {'byteOffset': {'start': 1869, 'end': 1917},\n",
       "     'start': {'line': 49, 'column': 16},\n",
       "     'end': {'line': 49, 'column': 64}}},\n",
       "   'B': {'text': 'data',\n",
       "    'range': {'byteOffset': {'start': 1924, 'end': 1928},\n",
       "     'start': {'line': 49, 'column': 71},\n",
       "     'end': {'line': 49, 'column': 75}}}},\n",
       "  'dialoghelper/core.py')]"
      ]
     },
     "execution_count": null,
     "metadata": {},
     "output_type": "execute_result"
    }
   ],
   "source": [
    "res = ast_grep(r\"xpost($A, data=$B)\", '..')\n",
    "[(o['text'],o['metaVariables']['single'],o['file']) for o in res]"
   ]
  },
  {
   "cell_type": "code",
   "execution_count": null,
   "id": "9da19150",
   "metadata": {},
   "outputs": [],
   "source": [
    "#| export\n",
    "def read_msg(\n",
    "    n:int=-1,      # Message index (if relative, +ve is downwards)\n",
    "    relative:bool=True,  # Is `n` relative to current message (True) or absolute (False)?\n",
    "    msgid:str=None,  # Message id to find (defaults to current message)\n",
    "    view_range:list[int,int]=None, # Optional 1-indexed (start, end) line range for files, end=-1 for EOF\n",
    "    nums:bool=False, # Whether to show line numbers\n",
    "    dname:str='' # Running dialog to get info for; defaults to current dialog\n",
    "    ):\n",
    "    \"Get the `Message` object indexed in the current dialog.\"\n",
    "    if not msgid: msgid = find_msg_id()\n",
    "    data = dict(n=n, relative=relative, msgid=msgid)\n",
    "    if view_range: data['view_range'] = view_range # None gets converted to '' so we avoid passing it to use the p.default\n",
    "    if nums: data['nums'] = nums\n",
    "    return call_endp('read_msg_', dname, json=True, **data)"
   ]
  },
  {
   "cell_type": "code",
   "execution_count": null,
   "id": "ab9d75ec",
   "metadata": {},
   "outputs": [],
   "source": [
    "_edit_id = add_msg('This message should be found.\\n\\nThis is a multiline message.')"
   ]
  },
  {
   "cell_type": "code",
   "execution_count": null,
   "id": "22ecf206",
   "metadata": {},
   "outputs": [
    {
     "name": "stdout",
     "output_type": "stream",
     "text": [
      "This message should be found.\n",
      "\n",
      "This is a multiline message.\n"
     ]
    }
   ],
   "source": [
    "print(read_msg()['msg']['content'])"
   ]
  },
  {
   "cell_type": "code",
   "execution_count": null,
   "id": "6d53e2dd",
   "metadata": {},
   "outputs": [
    {
     "name": "stdout",
     "output_type": "stream",
     "text": [
      "     1 │ This message should be found.\n",
      "     2 │ \n",
      "     3 │ This is a multiline message.\n"
     ]
    }
   ],
   "source": [
    "print(read_msg(n=0, msgid=_edit_id, nums=True)['msg']['content'])"
   ]
  },
  {
   "cell_type": "code",
   "execution_count": null,
   "id": "eda5f04b",
   "metadata": {},
   "outputs": [
    {
     "name": "stdout",
     "output_type": "stream",
     "text": [
      "     2 │ \n",
      "     3 │ This is a multiline message.\n"
     ]
    }
   ],
   "source": [
    "print(read_msg(n=0, msgid=_edit_id, nums=True, view_range=[2,3])['msg']['content'])"
   ]
  },
  {
   "cell_type": "code",
   "execution_count": null,
   "id": "316bd7a0",
   "metadata": {},
   "outputs": [],
   "source": [
    "#| export\n",
    "def run_msg(\n",
    "    msgid:str=None, # id of message to execute\n",
    "    dname:str='' # Running dialog to get info for; defaults to current dialog\n",
    "):\n",
    "    \"Adds a message to the run queue. Use read_msg to see the output once it runs.\"\n",
    "    return call_endp('add_runq_', dname, msgid=msgid, api=True)"
   ]
  },
  {
   "cell_type": "code",
   "execution_count": null,
   "id": "6e354677",
   "metadata": {},
   "outputs": [
    {
     "data": {
      "text/plain": [
       "2"
      ]
     },
     "execution_count": null,
     "metadata": {},
     "output_type": "execute_result"
    }
   ],
   "source": [
    "1+1"
   ]
  },
  {
   "cell_type": "code",
   "execution_count": null,
   "id": "6e1c440e",
   "metadata": {},
   "outputs": [],
   "source": [
    "codeid = read_msg()['msg']['id']"
   ]
  },
  {
   "cell_type": "code",
   "execution_count": null,
   "id": "7084f544",
   "metadata": {},
   "outputs": [
    {
     "data": {
      "text/plain": [
       "'{\"status\":\"queued\"}'"
      ]
     },
     "execution_count": null,
     "metadata": {},
     "output_type": "execute_result"
    }
   ],
   "source": [
    "run_msg(codeid)"
   ]
  },
  {
   "cell_type": "markdown",
   "id": "4cfd0bc5",
   "metadata": {},
   "source": [
    "## Text Edit"
   ]
  },
  {
   "cell_type": "code",
   "execution_count": null,
   "id": "63fa73fc",
   "metadata": {},
   "outputs": [],
   "source": [
    "#| export\n",
    "def msg_insert_line(\n",
    "    msgid:str,  # Message id to edit\n",
    "    insert_line: int, # The line number after which to insert the text (0 for beginning of file)\n",
    "    new_str: str, # The text to insert\n",
    "    dname:str='' # Running dialog to get info for; defaults to current dialog\n",
    "    ):\n",
    "    \"Insert text at a specific line number in a message\"\n",
    "    return call_endp('msg_insert_line_', dname, json=True, msgid=msgid, insert_line=insert_line, new_str=new_str)"
   ]
  },
  {
   "cell_type": "code",
   "execution_count": null,
   "id": "e97e962f",
   "metadata": {},
   "outputs": [
    {
     "data": {
      "text/plain": [
       "{'success': 'Inserted text after line 5 in message _65ee1825'}"
      ]
     },
     "execution_count": null,
     "metadata": {},
     "output_type": "execute_result"
    }
   ],
   "source": [
    "msg_insert_line(_edit_id, 0, 'This should go to the first line')\n",
    "msg_insert_line(_edit_id, 3, 'This should go to the 4th line')\n",
    "msg_insert_line(_edit_id, 5, 'This should go to the last line')"
   ]
  },
  {
   "cell_type": "code",
   "execution_count": null,
   "id": "1bc29396",
   "metadata": {},
   "outputs": [
    {
     "name": "stdout",
     "output_type": "stream",
     "text": [
      "     1 │ This should go to the first line\n",
      "     2 │ This message should be found.\n",
      "     3 │ \n",
      "     4 │ This should go to the 4th line\n",
      "     5 │ This is a multiline message.\n",
      "     6 │ This should go to the last line\n"
     ]
    }
   ],
   "source": [
    "print(read_msg(n=0, msgid=_edit_id, nums=True)['msg']['content'])"
   ]
  },
  {
   "cell_type": "code",
   "execution_count": null,
   "id": "a2aca58c",
   "metadata": {},
   "outputs": [],
   "source": [
    "#| export\n",
    "def msg_str_replace(\n",
    "    msgid:str,  # Message id to edit\n",
    "    old_str: str, # Text to find and replace\n",
    "    new_str: str, # Text to replace with\n",
    "    dname:str='' # Running dialog to get info for; defaults to current dialog\n",
    "):\n",
    "    \"Replace first occurrence of old_str with new_str in a message\"\n",
    "    return call_endp('msg_str_replace_', dname, json=True, msgid=msgid, old_str=old_str, new_str=new_str)"
   ]
  },
  {
   "cell_type": "code",
   "execution_count": null,
   "id": "429ad7d4",
   "metadata": {},
   "outputs": [
    {
     "data": {
      "text/plain": [
       "{'success': 'Replaced text in message _65ee1825'}"
      ]
     },
     "execution_count": null,
     "metadata": {},
     "output_type": "execute_result"
    }
   ],
   "source": [
    "msg_str_replace(_edit_id, 'This should go to the first line', 'This should go to the 1st line')"
   ]
  },
  {
   "cell_type": "code",
   "execution_count": null,
   "id": "ea4948ca",
   "metadata": {},
   "outputs": [
    {
     "name": "stdout",
     "output_type": "stream",
     "text": [
      "     1 │ This should go to the 1st line\n",
      "     2 │ This message should be found.\n",
      "     3 │ \n",
      "     4 │ This should go to the 4th line\n",
      "     5 │ This is a multiline message.\n",
      "     6 │ This should go to the last line\n"
     ]
    }
   ],
   "source": [
    "print(read_msg(n=0, msgid=_edit_id, nums=True)['msg']['content'])"
   ]
  },
  {
   "cell_type": "code",
   "execution_count": null,
   "id": "085723cd",
   "metadata": {},
   "outputs": [],
   "source": [
    "#| export\n",
    "def msg_strs_replace(\n",
    "    msgid:str,  # Message id to edit\n",
    "    old_strs:list[str], # List of strings to find and replace\n",
    "    new_strs:list[str], # List of replacement strings (must match length of old_strs)\n",
    "    dname:str='' # Running dialog to get info for; defaults to current dialog\n",
    "):\n",
    "    \"Replace multiple strings simultaneously in a message\"\n",
    "    return call_endp('msg_strs_replace_', dname, json=True, msgid=msgid, old_strs=old_strs, new_strs=new_strs)"
   ]
  },
  {
   "cell_type": "code",
   "execution_count": null,
   "id": "e962e660",
   "metadata": {},
   "outputs": [
    {
     "data": {
      "text/plain": [
       "{'success': 'Successfully replaced all the strings in message _65ee1825'}"
      ]
     },
     "execution_count": null,
     "metadata": {},
     "output_type": "execute_result"
    }
   ],
   "source": [
    "msg_strs_replace(_edit_id, ['This is a multiline message.', 'This should go to the last line'], ['5th line', 'last line'])"
   ]
  },
  {
   "cell_type": "code",
   "execution_count": null,
   "id": "83897f47",
   "metadata": {},
   "outputs": [
    {
     "name": "stdout",
     "output_type": "stream",
     "text": [
      "     1 │ This should go to the 1st line\n",
      "     2 │ This message should be found.\n",
      "     3 │ \n",
      "     4 │ This should go to the 4th line\n",
      "     5 │ 5th line\n",
      "     6 │ last line\n"
     ]
    }
   ],
   "source": [
    "print(read_msg(n=0, msgid=_edit_id, nums=True)['msg']['content'])"
   ]
  },
  {
   "cell_type": "code",
   "execution_count": null,
   "id": "ebb9dd09",
   "metadata": {},
   "outputs": [],
   "source": [
    "#| export\n",
    "def msg_replace_lines(\n",
    "    msgid:str,  # Message id to edit\n",
    "    start_line:int, # Starting line number to replace (1-based indexing)\n",
    "    end_line:int, # Ending line number to replace (1-based indexing, inclusive)\n",
    "    new_content:str, # New content to replace the specified lines\n",
    "    dname:str='' # Running dialog to get info for; defaults to current dialog\n",
    "):\n",
    "    \"Replace a range of lines with new content in a message\"\n",
    "    return call_endp('msg_replace_lines_', dname, json=True, msgid=msgid, start_line=start_line, end_line=end_line, new_content=new_content)"
   ]
  },
  {
   "cell_type": "code",
   "execution_count": null,
   "id": "cf50ad90",
   "metadata": {},
   "outputs": [
    {
     "data": {
      "text/plain": [
       "{'success': 'Replaced lines 2 to 4 in message _65ee1825'}"
      ]
     },
     "execution_count": null,
     "metadata": {},
     "output_type": "execute_result"
    }
   ],
   "source": [
    "msg_replace_lines(_edit_id, 2, 4,'line 2\\nline 3\\nline 4\\n')"
   ]
  },
  {
   "cell_type": "code",
   "execution_count": null,
   "id": "816ca38e",
   "metadata": {},
   "outputs": [
    {
     "name": "stdout",
     "output_type": "stream",
     "text": [
      "     1 │ This should go to the 1st line\n",
      "     2 │ line 2\n",
      "     3 │ line 3\n",
      "     4 │ line 4\n",
      "     5 │ 5th line\n",
      "     6 │ last line\n"
     ]
    }
   ],
   "source": [
    "print(read_msg(n=0, msgid=_edit_id, nums=True)['msg']['content'])"
   ]
  },
  {
   "cell_type": "code",
   "execution_count": null,
   "id": "89487ddb",
   "metadata": {},
   "outputs": [],
   "source": [
    "del_msg(_edit_id)"
   ]
  },
  {
   "cell_type": "markdown",
   "id": "db2c0e1c",
   "metadata": {},
   "source": [
    "## Gists"
   ]
  },
  {
   "cell_type": "code",
   "execution_count": null,
   "id": "eb4c6bf4",
   "metadata": {},
   "outputs": [],
   "source": [
    "#| export\n",
    "def load_gist(gist_id:str):\n",
    "    \"Retrieve a gist\"\n",
    "    api = GhApi()\n",
    "    if '/' in gist_id: *_,user,gist_id = gist_id.split('/')\n",
    "    else: user = None\n",
    "    return api.gists.get(gist_id, user=user)"
   ]
  },
  {
   "cell_type": "code",
   "execution_count": null,
   "id": "3ab7586f",
   "metadata": {},
   "outputs": [
    {
     "data": {
      "text/plain": [
       "'https://gist.github.com/jph00/e7cfd4ded593e8ef6217e78a0131960c'"
      ]
     },
     "execution_count": null,
     "metadata": {},
     "output_type": "execute_result"
    }
   ],
   "source": [
    "gistid = 'jph00/e7cfd4ded593e8ef6217e78a0131960c'\n",
    "gist = load_gist(gistid)\n",
    "gist.html_url"
   ]
  },
  {
   "cell_type": "code",
   "execution_count": null,
   "id": "3b151f8f",
   "metadata": {},
   "outputs": [],
   "source": [
    "#| export\n",
    "def gist_file(gist_id:str):\n",
    "    \"Get the first file from a gist\"\n",
    "    gist = load_gist(gist_id)\n",
    "    return first(gist.files.values())"
   ]
  },
  {
   "cell_type": "code",
   "execution_count": null,
   "id": "ea33969d",
   "metadata": {},
   "outputs": [
    {
     "name": "stdout",
     "output_type": "stream",
     "text": [
      "\"This is a test module which makes some simple tools available.\"\n",
      "__all__ = [\"hi\",\"whoami\"]\n",
      "\n",
      "testfoo=…\n"
     ]
    }
   ],
   "source": [
    "gfile = gist_file(gistid)\n",
    "print(gfile.content[:100]+\"…\")"
   ]
  },
  {
   "cell_type": "code",
   "execution_count": null,
   "id": "1ccfc95a",
   "metadata": {},
   "outputs": [],
   "source": [
    "#| export\n",
    "def import_string(\n",
    "    code:str, # Code to import as a module\n",
    "    name:str  # Name of module to create\n",
    "):\n",
    "    with TemporaryDirectory() as tmpdir:\n",
    "        path = Path(tmpdir) / f\"{name}.py\"\n",
    "        path.write_text(code)\n",
    "        # linecache.cache storage allows inspect.getsource() after tmpdir lifetime ends\n",
    "        linecache.cache[str(path)] = (len(code), None, code.splitlines(keepends=True), str(path))\n",
    "        spec = importlib.util.spec_from_file_location(name, path)\n",
    "        module = importlib.util.module_from_spec(spec)\n",
    "        sys.modules[name] = module\n",
    "        spec.loader.exec_module(module)\n",
    "        return module"
   ]
  },
  {
   "cell_type": "code",
   "execution_count": null,
   "id": "752bf2df",
   "metadata": {},
   "outputs": [],
   "source": [
    "#| export\n",
    "empty = Parameter.empty\n",
    "\n",
    "def is_usable_tool(func:callable):\n",
    "    \"True if the function has a docstring and all parameters have types, meaning that it can be used as an LLM tool.\"    \n",
    "    if not func.__doc__ or not callable(func): return False\n",
    "    return all(p.annotation != empty for p in signature(func).parameters.values())"
   ]
  },
  {
   "cell_type": "code",
   "execution_count": null,
   "id": "9ec853f7",
   "metadata": {},
   "outputs": [],
   "source": [
    "def hi(who:str):\n",
    "    \"Say hi to `who`\"\n",
    "    return f\"Hello {who}\"\n",
    "\n",
    "def hi2(who):\n",
    "    \"Say hi to `who`\"\n",
    "    return f\"Hello {who}\"\n",
    "\n",
    "def hi3(who:str):\n",
    "    return f\"Hello {who}\"\n",
    "\n",
    "bye = \"bye\""
   ]
  },
  {
   "cell_type": "code",
   "execution_count": null,
   "id": "728affe1",
   "metadata": {},
   "outputs": [],
   "source": [
    "assert is_usable_tool(hi)\n",
    "assert not is_usable_tool(hi2)\n",
    "assert not is_usable_tool(hi3)\n",
    "assert not is_usable_tool(bye)"
   ]
  },
  {
   "cell_type": "code",
   "execution_count": null,
   "id": "27730708",
   "metadata": {},
   "outputs": [],
   "source": [
    "#| export\n",
    "def mk_toollist(syms):\n",
    "    return \"\\n\".join(f\"- &`{sym.__name__}`: {sym.__doc__}\" for sym in syms if is_usable_tool(sym))"
   ]
  },
  {
   "cell_type": "code",
   "execution_count": null,
   "id": "a952258c",
   "metadata": {},
   "outputs": [
    {
     "data": {
      "text/markdown": [
       "- &`hi`: Say hi to `who`"
      ],
      "text/plain": [
       "<IPython.core.display.Markdown object>"
      ]
     },
     "execution_count": null,
     "metadata": {},
     "output_type": "execute_result"
    }
   ],
   "source": [
    "Markdown(mk_toollist([hi]))"
   ]
  },
  {
   "cell_type": "code",
   "execution_count": null,
   "id": "84868ea2",
   "metadata": {},
   "outputs": [],
   "source": [
    "#| export\n",
    "def import_gist(\n",
    "    gist_id:str, # user/id or just id of gist to import as a module\n",
    "    mod_name:str=None, # module name to create (taken from gist filename if not passed)\n",
    "    add_global:bool=True, # add module to caller's globals?\n",
    "    import_wildcard:bool=False, # import all exported symbols to caller's globals\n",
    "    create_msg:bool=False # Add a message that lists usable tools\n",
    "):\n",
    "    \"Import gist directly from string without saving to disk\"\n",
    "    fil = gist_file(gist_id)\n",
    "    mod_name = mod_name or Path(fil['filename']).stem\n",
    "    module = import_string(fil['content'], mod_name)\n",
    "    glbs = currentframe().f_back.f_globals\n",
    "    if add_global: glbs[mod_name] = module\n",
    "    syms = getattr(module, '__all__', None)\n",
    "    if syms is None: syms = [o for o in dir(module) if not o.startswith('_')]\n",
    "    syms = [getattr(module, nm) for nm in syms]\n",
    "    if import_wildcard:\n",
    "        for sym in syms: glbs[sym.__name__] = sym\n",
    "    if create_msg:\n",
    "        pref = getattr(module, '__doc__', \"Tools added to dialog:\")\n",
    "        add_msg(f\"{pref}\\n\\n{mk_toollist(syms)}\")\n",
    "    return module"
   ]
  },
  {
   "cell_type": "code",
   "execution_count": null,
   "id": "aefee238",
   "metadata": {},
   "outputs": [
    {
     "data": {
      "text/plain": [
       "'testbar'"
      ]
     },
     "execution_count": null,
     "metadata": {},
     "output_type": "execute_result"
    }
   ],
   "source": [
    "import_gist(gistid)\n",
    "importtest.testfoo"
   ]
  },
  {
   "cell_type": "code",
   "execution_count": null,
   "id": "4a4f7f89",
   "metadata": {},
   "outputs": [
    {
     "data": {
      "text/plain": [
       "'Import gist directly from string without saving to disk'"
      ]
     },
     "execution_count": null,
     "metadata": {},
     "output_type": "execute_result"
    }
   ],
   "source": [
    "import_gist.__doc__"
   ]
  },
  {
   "cell_type": "code",
   "execution_count": null,
   "id": "e80a7944",
   "metadata": {},
   "outputs": [
    {
     "data": {
      "text/plain": [
       "'testbar'"
      ]
     },
     "execution_count": null,
     "metadata": {},
     "output_type": "execute_result"
    }
   ],
   "source": [
    "import_gist(gistid, import_wildcard=True)\n",
    "importtest.testfoo"
   ]
  },
  {
   "cell_type": "code",
   "execution_count": null,
   "id": "573abb48",
   "metadata": {},
   "outputs": [
    {
     "data": {
      "text/plain": [
       "'Hello Sarah'"
      ]
     },
     "execution_count": null,
     "metadata": {},
     "output_type": "execute_result"
    }
   ],
   "source": [
    "hi(\"Sarah\")"
   ]
  },
  {
   "cell_type": "code",
   "execution_count": null,
   "id": "392dc090",
   "metadata": {},
   "outputs": [
    {
     "data": {
      "text/plain": [
       "['hi', 'whoami']"
      ]
     },
     "execution_count": null,
     "metadata": {},
     "output_type": "execute_result"
    }
   ],
   "source": [
    "importtest.__all__"
   ]
  },
  {
   "cell_type": "markdown",
   "id": "aaa26f67",
   "metadata": {},
   "source": [
    "## Tool info"
   ]
  },
  {
   "cell_type": "markdown",
   "id": "cab73732",
   "metadata": {},
   "source": [
    "This is how we get a superset of tools to include:"
   ]
  },
  {
   "cell_type": "code",
   "execution_count": null,
   "id": "c304279a",
   "metadata": {},
   "outputs": [],
   "source": [
    "#| export\n",
    "def tool_info():\n",
    "    cts='''Tools available from `dialoghelper`:\n",
    "\n",
    "- &`curr_dialog`: Get the current dialog info.\n",
    "- &`msg_idx`: Get absolute index of message in dialog.\n",
    "- &`add_html`: Send HTML to the browser to be swapped into the DOM using hx-swap-oob.\n",
    "- &`find_msg_id`: Get the current message id.\n",
    "- &`find_msgs`: Find messages in current specific dialog that contain the given information.\n",
    "  - (solveit can often get this id directly from its context, and will not need to use this if the required information is already available to it.)\n",
    "- &`read_msg`: Get the message indexed in the current dialog.\n",
    "  - To get the exact message use `n=0` and `relative=True` together with `msgid`.\n",
    "  - To get a relative message use `n` (relative position index).\n",
    "  - To get the nth message use `n` with `relative=False`, e.g `n=0` first message, `n=-1` last message.\n",
    "- &`del_msg`: Delete a message from the dialog.\n",
    "- &`add_msg`: Add/update a message to the queue to show after code execution completes.\n",
    "- &`update_msg`: Update an existing message.\n",
    "- &`url2note`: Read URL as markdown, and add a note below current message with the result\n",
    "- &`msg_insert_line`: Insert text at a specific location in a message.\n",
    "- &`msg_str_replace`: Find and replace text in a message.\n",
    "- &`msg_strs_replace`: Find and replace multiple strings in a message.\n",
    "- &`msg_replace_lines`: Replace a range of lines in a message with new content.\n",
    "  - Always first use `read_msg( msgid=msgid, n=0, relative=True, nums=True)` to view the content with line numbers.'''\n",
    "    add_msg(cts)"
   ]
  },
  {
   "cell_type": "code",
   "execution_count": null,
   "id": "0c2d443a",
   "metadata": {},
   "outputs": [],
   "source": [
    "from dialoghelper.core import __all__ as _all"
   ]
  },
  {
   "cell_type": "code",
   "execution_count": null,
   "id": "75f9df8f",
   "metadata": {},
   "outputs": [],
   "source": [
    "#| export\n",
    "def fc_tool_info():\n",
    "    cts='''Tools available from `fastcore.tools`:\n",
    "\n",
    "- &`rg`: Run the `rg` command with the args in `argstr` (no need to backslash escape)\n",
    "- &`sed`: Run the `sed` command with the args in `argstr` (e.g for reading a section of a file)\n",
    "- &`view`: View directory or file contents with optional line range and numbers\n",
    "- &`create`: Creates a new file with the given content at the specified path\n",
    "- &`insert`: Insert new_str at specified line number\n",
    "- &`str_replace`: Replace first occurrence of old_str with new_str in file\n",
    "- &`strs_replace`: Replace for each str pair in old_strs,new_strs\n",
    "- &`replace_lines`: Replace lines in file using start and end line-numbers'''\n",
    "    add_msg(cts)\n",
    "    add_msg('from fastcore.tools import *', msg_type='code')"
   ]
  },
  {
   "cell_type": "code",
   "execution_count": null,
   "id": "ccc6ffd1",
   "metadata": {},
   "outputs": [
    {
     "name": "stdout",
     "output_type": "stream",
     "text": [
      "dh_settings\n",
      "Placements\n",
      "empty\n",
      "find_var\n",
      "- &`find_var`: Search for var in all frames of the call stack\n",
      "set_var\n",
      "- &`set_var`: Set var to val after finding it in all frames of the call stack\n",
      "call_endp\n",
      "find_dname\n",
      "- &`find_dname`: Get the message id by searching the call stack for __dialog_id.\n",
      "find_msg_id\n",
      "- &`find_msg_id`: Get the message id by searching the call stack for __dialog_id.\n",
      "curr_dialog\n",
      "- &`curr_dialog`: Get the current dialog info.\n",
      "find_msgs\n",
      "- &`find_msgs`: Find `list[dict]` of messages in current specific dialog that contain the given information. To refer to a message found later, use its `id` field.\n",
      "msg_idx\n",
      "- &`msg_idx`: Get absolute index of message in dialog.\n",
      "add_html\n",
      "- &`add_html`: Send HTML to the browser to be swapped into the DOM\n",
      "add_msg\n",
      "- &`add_msg`: Add/update a message to the queue to show after code execution completes.\n",
      "del_msg\n",
      "- &`del_msg`: Delete a message from the dialog.\n",
      "update_msg\n",
      "- &`update_msg`: Update an existing message. Provide either `msg` OR field key/values to update.\n",
      "    Use `content` param to update contents.\n",
      "    Only include parameters to update--missing ones will be left unchanged.\n",
      "url2note\n",
      "- &`url2note`: Read URL as markdown, and add a note below current message with the result\n",
      "ast_py\n",
      "- &`ast_py`: Get an SgRoot root node for python `code`\n",
      "ast_grep\n",
      "- &`ast_grep`: Use the `ast-grep` command to find `pattern` in `path`\n",
      "read_msg\n",
      "- &`read_msg`: Get the `Message` object indexed in the current dialog.\n",
      "run_msg\n",
      "- &`run_msg`: Adds a message to the run queue. Use read_msg to see the output once it runs.\n",
      "msg_insert_line\n",
      "- &`msg_insert_line`: Insert text at a specific line number in a message\n",
      "msg_str_replace\n",
      "- &`msg_str_replace`: Replace first occurrence of old_str with new_str in a message\n",
      "msg_strs_replace\n",
      "- &`msg_strs_replace`: Replace multiple strings simultaneously in a message\n",
      "msg_replace_lines\n",
      "- &`msg_replace_lines`: Replace a range of lines with new content in a message\n",
      "load_gist\n",
      "- &`load_gist`: Retrieve a gist\n",
      "gist_file\n",
      "- &`gist_file`: Get the first file from a gist\n",
      "import_string\n",
      "is_usable_tool\n",
      "- &`is_usable_tool`: True if the function has a docstring and all parameters have types, meaning that it can be used as an LLM tool.\n",
      "mk_toollist\n",
      "import_gist\n",
      "- &`import_gist`: Import gist directly from string without saving to disk\n",
      "tool_info\n",
      "fc_tool_info\n"
     ]
    }
   ],
   "source": [
    "for o in _all:\n",
    "    s = globals()[o]\n",
    "    print(o)\n",
    "    if not hasattr(s, '__name__') or s.__name__[0]=='_' or not s.__doc__: continue\n",
    "    print(f'- &`{s.__name__}`: {s.__doc__}')"
   ]
  },
  {
   "cell_type": "code",
   "execution_count": null,
   "id": "694429ca",
   "metadata": {},
   "outputs": [
    {
     "name": "stdout",
     "output_type": "stream",
     "text": [
      "- &`run_cmd`: Run `cmd` passing split `argstr`, optionally checking for allowed argstr\n",
      "- &`rg`: Run the `rg` command with the args in `argstr` (no need to backslash escape)\n",
      "- &`sed`: Run the `sed` command with the args in `argstr` (e.g for reading a section of a file)\n",
      "- &`view`: View directory or file contents with optional line range and numbers\n",
      "- &`create`: Creates a new file with the given content at the specified path\n",
      "- &`insert`: Insert new_str at specified line number\n",
      "- &`str_replace`: Replace first occurrence of old_str with new_str in file\n",
      "- &`strs_replace`: Replace for each str pair in old_strs,new_strs\n",
      "- &`replace_lines`: Replace lines in file using start and end line-numbers (index starting at 1)\n"
     ]
    }
   ],
   "source": [
    "for o in tools.__all__:\n",
    "    s = getattr(tools, o)\n",
    "    print(f'- &`{s.__name__}`: {s.__doc__}')"
   ]
  },
  {
   "cell_type": "markdown",
   "id": "5aa7e033",
   "metadata": {},
   "source": [
    "## export -"
   ]
  },
  {
   "cell_type": "code",
   "execution_count": null,
   "id": "379099ac",
   "metadata": {},
   "outputs": [],
   "source": [
    "#| hide\n",
    "from nbdev import nbdev_export\n",
    "nbdev_export()"
   ]
  }
 ],
 "metadata": {
  "solveit_dialog_mode": "concise",
  "solveit_ver": 2
 },
 "nbformat": 4,
 "nbformat_minor": 5
}
