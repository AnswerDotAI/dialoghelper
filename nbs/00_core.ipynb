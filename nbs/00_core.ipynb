{
 "cells": [
  {
   "cell_type": "code",
   "execution_count": null,
   "metadata": {},
   "outputs": [],
   "source": [
    "#| default_exp core"
   ]
  },
  {
   "cell_type": "markdown",
   "metadata": {},
   "source": [
    "# dialoghelper"
   ]
  },
  {
   "cell_type": "code",
   "execution_count": null,
   "metadata": {},
   "outputs": [],
   "source": [
    "#| export\n",
    "import inspect, json, importlib, linecache\n",
    "from tempfile import TemporaryDirectory\n",
    "from ipykernel_helper import *\n",
    "\n",
    "from fastcore.utils import *\n",
    "from ghapi.all import *\n",
    "from fastlite import *"
   ]
  },
  {
   "cell_type": "code",
   "execution_count": null,
   "metadata": {},
   "outputs": [],
   "source": [
    "#| export\n",
    "def get_db(ns:dict=None):\n",
    "    if os.environ.get('IN_SOLVEIT', False): dataparent,nm = Path(os.environ.get('APP_PATH', '/app')),'data.db'\n",
    "    else: dataparent,nm = Path('..'),'dev_data.db'\n",
    "    db = database(dataparent/'data'/nm)\n",
    "    dcs = [o for o in all_dcs(db) if o.__name__[0]!='_']\n",
    "    if ns:\n",
    "        for o in dcs: ns[o.__name__]=o\n",
    "    return db"
   ]
  },
  {
   "cell_type": "code",
   "execution_count": null,
   "metadata": {},
   "outputs": [
    {
     "data": {
      "text/plain": [
       "Dialog(id=1, name='test dialog', mode=2)"
      ]
     },
     "execution_count": null,
     "metadata": {},
     "output_type": "execute_result"
    }
   ],
   "source": [
    "db = get_db(globals())\n",
    "dlg = db.t.dialog.fetchone()\n",
    "dlg"
   ]
  },
  {
   "cell_type": "code",
   "execution_count": null,
   "metadata": {},
   "outputs": [
    {
     "data": {
      "text/plain": [
       "Dialog(id=42, name='The Answer', mode=2)"
      ]
     },
     "execution_count": null,
     "metadata": {},
     "output_type": "execute_result"
    }
   ],
   "source": [
    "Dialog(42, name='The Answer')"
   ]
  },
  {
   "cell_type": "code",
   "execution_count": null,
   "metadata": {},
   "outputs": [],
   "source": [
    "#| export\n",
    "def find_var(var:str):\n",
    "    \"Search for var in all frames of the call stack\"\n",
    "    frame = inspect.currentframe()\n",
    "    while frame:\n",
    "        dv = frame.f_globals.get(var, frame.f_locals.get(var, None))\n",
    "        if dv: return dv\n",
    "        frame = frame.f_back\n",
    "    raise ValueError(f\"Could not find {var} in any scope\")"
   ]
  },
  {
   "cell_type": "code",
   "execution_count": null,
   "metadata": {},
   "outputs": [
    {
     "data": {
      "text/plain": [
       "1"
      ]
     },
     "execution_count": null,
     "metadata": {},
     "output_type": "execute_result"
    }
   ],
   "source": [
    "a = 1\n",
    "find_var('a')"
   ]
  },
  {
   "cell_type": "code",
   "execution_count": null,
   "metadata": {},
   "outputs": [],
   "source": [
    "#| export\n",
    "def find_dialog_id():\n",
    "    \"Get the dialog id by searching the call stack for __dialog_id.\"\n",
    "    return find_var('__dialog_id')"
   ]
  },
  {
   "cell_type": "code",
   "execution_count": null,
   "metadata": {},
   "outputs": [],
   "source": [
    "__dialog_id = dlg.id"
   ]
  },
  {
   "cell_type": "code",
   "execution_count": null,
   "metadata": {},
   "outputs": [
    {
     "data": {
      "text/plain": [
       "1"
      ]
     },
     "execution_count": null,
     "metadata": {},
     "output_type": "execute_result"
    }
   ],
   "source": [
    "find_dialog_id()"
   ]
  },
  {
   "cell_type": "code",
   "execution_count": null,
   "metadata": {},
   "outputs": [],
   "source": [
    "#| export\n",
    "def find_msgs(\n",
    "    pattern: str, # Text to search for\n",
    "    limit:int=10 # Limit number of returned items\n",
    "):\n",
    "    \"Find messages in a specific dialog that contain the given pattern.\"\n",
    "    did = find_dialog_id()\n",
    "    db = get_db()\n",
    "    return db.t.message('did=? AND content LIKE ?', [did, f'%{pattern}%'], limit=limit)"
   ]
  },
  {
   "cell_type": "code",
   "execution_count": null,
   "metadata": {},
   "outputs": [
    {
     "data": {
      "text/plain": [
       "Message(id='msg-a2', sid='_vZxms608LW0aPR_nvIlgqQ', content='*Hello* to the **world**!', output='', input_tokens=13, output_tokens=0, msg_type='note', time_run='', is_exported=0, skipped=1, did=1, i_collapsed=0, o_collapsed=0, header_collapsed=0, pinned=0)"
      ]
     },
     "execution_count": null,
     "metadata": {},
     "output_type": "execute_result"
    }
   ],
   "source": [
    "found = find_msgs('to the')\n",
    "found[0]"
   ]
  },
  {
   "cell_type": "code",
   "execution_count": null,
   "metadata": {},
   "outputs": [],
   "source": [
    "#| export\n",
    "def find_msg_id():\n",
    "    \"Get the message id by searching the call stack for __dialog_id.\"\n",
    "    return find_var('__msg_id')"
   ]
  },
  {
   "cell_type": "code",
   "execution_count": null,
   "metadata": {},
   "outputs": [],
   "source": [
    "__msg_id = found[0].sid"
   ]
  },
  {
   "cell_type": "code",
   "execution_count": null,
   "metadata": {},
   "outputs": [
    {
     "data": {
      "text/plain": [
       "'_vZxms608LW0aPR_nvIlgqQ'"
      ]
     },
     "execution_count": null,
     "metadata": {},
     "output_type": "execute_result"
    }
   ],
   "source": [
    "find_msg_id()"
   ]
  },
  {
   "cell_type": "code",
   "execution_count": null,
   "metadata": {},
   "outputs": [],
   "source": [
    "#| export\n",
    "def read_msg_ids():\n",
    "    \"Get all ids in current dialog.\"\n",
    "    did = find_dialog_id()\n",
    "    db = get_db()\n",
    "    return [o.sid for o in db.t.message('did=?', [did], select='sid', order_by='id')]"
   ]
  },
  {
   "cell_type": "code",
   "execution_count": null,
   "metadata": {},
   "outputs": [],
   "source": [
    "#| export\n",
    "def msg_idx():\n",
    "    \"Get index of current message in dialog.\"\n",
    "    ids = read_msg_ids()\n",
    "    return ids,ids.index(find_msg_id())"
   ]
  },
  {
   "cell_type": "code",
   "execution_count": null,
   "metadata": {},
   "outputs": [
    {
     "data": {
      "text/plain": [
       "2"
      ]
     },
     "execution_count": null,
     "metadata": {},
     "output_type": "execute_result"
    }
   ],
   "source": [
    "ids,idx = msg_idx()\n",
    "idx"
   ]
  },
  {
   "cell_type": "code",
   "execution_count": null,
   "metadata": {},
   "outputs": [],
   "source": [
    "#| export\n",
    "def read_msg(n:int=-1,     # Message index (if relative, +ve is downwards)\n",
    "             relative:bool=True  # Is `n` relative to current message (True) or absolute (False)?\n",
    "    ):\n",
    "    \"Get the message indexed in the current dialog.\"\n",
    "    ids,idx = msg_idx()\n",
    "    if relative:\n",
    "        idx = idx+n\n",
    "        if not 0<=idx<len(ids): return None\n",
    "    else: idx = n\n",
    "    db = get_db()\n",
    "    return db.t.message.fetchone('sid=?', [ids[idx]])"
   ]
  },
  {
   "cell_type": "code",
   "execution_count": null,
   "metadata": {},
   "outputs": [
    {
     "data": {
      "text/plain": [
       "Message(id='msg-a1', sid='_I7jB6TkkVt4_sTuQRmhSVw', content='hello world', output='', input_tokens=3, output_tokens=0, msg_type='note', time_run='', is_exported=0, skipped=0, did=1, i_collapsed=0, o_collapsed=0, header_collapsed=0, pinned=0)"
      ]
     },
     "execution_count": null,
     "metadata": {},
     "output_type": "execute_result"
    }
   ],
   "source": [
    "# Previous message relative to current\n",
    "read_msg(-1)"
   ]
  },
  {
   "cell_type": "code",
   "execution_count": null,
   "metadata": {},
   "outputs": [
    {
     "data": {
      "text/plain": [
       "Message(id='msg-a4', sid='_dZzeZrrPs9ALH5Fjzp-1fw', content='How do I create a new instance?', output='', input_tokens=0, output_tokens=0, msg_type='note', time_run='', is_exported=0, skipped=0, did=1, i_collapsed=0, o_collapsed=0, header_collapsed=0, pinned=0)"
      ]
     },
     "execution_count": null,
     "metadata": {},
     "output_type": "execute_result"
    }
   ],
   "source": [
    "# Last message in dialog\n",
    "read_msg(-1, relative=False)"
   ]
  },
  {
   "cell_type": "code",
   "execution_count": null,
   "metadata": {},
   "outputs": [],
   "source": [
    "#| export\n",
    "def add_msg(\n",
    "    content:str, # message that we are updating or adding before/after\n",
    "    msg_type: str='note', # message type, can be 'code', 'note', or 'prompt'\n",
    "    output='', # for prompts/code, initial output\n",
    "    placement='add_after', # can be 'add_after', 'add_before', 'update', 'at_start', 'at_end'\n",
    "    msg_id:str=None, # id of message that placement is relative to (if None, uses current message)\n",
    "    **kw # Additional Message fields such as skipped i/o_collapsed, etc, passed through to the server\n",
    "):\n",
    "    \"Add/update a message to the queue to show after code execution completes.\"\n",
    "    assert msg_type in ('note', 'code', 'prompt'), \"msg_type must be 'code', 'note', or 'prompt'.\"\n",
    "#     kwargs = {'msg_id':msg_id} if msg_id else {}\n",
    "    run_cmd('add_msg', content=content, msg_type=msg_type, output=output, placement=placement, msg_id=msg_id, **kw)"
   ]
  },
  {
   "cell_type": "code",
   "execution_count": null,
   "metadata": {},
   "outputs": [],
   "source": [
    "#| export\n",
    "def update_msg(msg: dict):\n",
    "    \"Update an existing message in the dialog.\"\n",
    "    if not isinstance(msg, dict): msg = asdict(msg)\n",
    "    exclude = {'id', 'content', 'msg_type', 'output'} # explicit args\n",
    "    kw = {k: v for k, v in msg.items() if k not in exclude}\n",
    "    add_msg(content=msg['content'], msg_type=msg['msg_type'], output=msg['output'],\n",
    "            placement = 'update', msg_id=msg['id'], **kw)"
   ]
  },
  {
   "cell_type": "code",
   "execution_count": null,
   "metadata": {},
   "outputs": [],
   "source": [
    "#| export\n",
    "def add_html(\n",
    "    html:str, # HTML to add to the DOM\n",
    "):\n",
    "    \"Dynamically add HTML to the current web page. Supports HTMX attrs too.\"\n",
    "    run_cmd('add_ft', html=html)"
   ]
  },
  {
   "cell_type": "code",
   "execution_count": null,
   "metadata": {},
   "outputs": [],
   "source": [
    "#| export\n",
    "def load_gist(gist_id:str):\n",
    "    \"Retrieve a gist\"\n",
    "    api = GhApi()\n",
    "    if '/' in gist_id: *_,user,gist_id = gist_id.split('/')\n",
    "    else: user = None\n",
    "    return api.gists.get(gist_id, user=user)"
   ]
  },
  {
   "cell_type": "code",
   "execution_count": null,
   "metadata": {},
   "outputs": [
    {
     "data": {
      "text/plain": [
       "'https://gist.github.com/jph00/e7cfd4ded593e8ef6217e78a0131960c'"
      ]
     },
     "execution_count": null,
     "metadata": {},
     "output_type": "execute_result"
    }
   ],
   "source": [
    "gistid = 'jph00/e7cfd4ded593e8ef6217e78a0131960c'\n",
    "gist = load_gist(gistid)\n",
    "gist.html_url"
   ]
  },
  {
   "cell_type": "code",
   "execution_count": null,
   "metadata": {},
   "outputs": [],
   "source": [
    "#| export\n",
    "def gist_file(gist_id:str):\n",
    "    \"Get the first file from a gist\"\n",
    "    gist = load_gist(gist_id)\n",
    "    return first(gist.files.values())"
   ]
  },
  {
   "cell_type": "code",
   "execution_count": null,
   "metadata": {},
   "outputs": [
    {
     "name": "stdout",
     "output_type": "stream",
     "text": [
      "testfoo='testbar'\n"
     ]
    }
   ],
   "source": [
    "gfile = gist_file(gistid)\n",
    "print(gfile.content)"
   ]
  },
  {
   "cell_type": "code",
   "execution_count": null,
   "metadata": {},
   "outputs": [],
   "source": [
    "#| export\n",
    "def import_string(\n",
    "    code:str, # Code to import as a module\n",
    "    name:str  # Name of module to create\n",
    "):\n",
    "    with TemporaryDirectory() as tmpdir:\n",
    "        path = Path(tmpdir) / f\"{name}.py\"\n",
    "        path.write_text(code)\n",
    "        # linecache.cache storage allows inspect.getsource() after tmpdir lifetime ends\n",
    "        linecache.cache[str(path)] = (len(code), None, code.splitlines(keepends=True), str(path))\n",
    "        spec = importlib.util.spec_from_file_location(name, path)\n",
    "        module = importlib.util.module_from_spec(spec)\n",
    "        sys.modules[name] = module\n",
    "        spec.loader.exec_module(module)\n",
    "        return module"
   ]
  },
  {
   "cell_type": "code",
   "execution_count": null,
   "metadata": {},
   "outputs": [],
   "source": [
    "#| export\n",
    "def import_gist(\n",
    "    gist_id:str, # user/id or just id of gist to import as a module\n",
    "    mod_name:str=None, # module name to create (taken from gist filename if not passed)\n",
    "    add_global:bool=True # add module to caller's globals?\n",
    "):\n",
    "    \"Import gist directly from string without saving to disk\"\n",
    "    fil = gist_file(gist_id)\n",
    "    mod_name = mod_name or Path(fil['filename']).stem\n",
    "    module = import_string(fil['content'], mod_name)\n",
    "    if add_global: inspect.currentframe().f_back.f_globals[mod_name] = module\n",
    "    return module"
   ]
  },
  {
   "cell_type": "code",
   "execution_count": null,
   "metadata": {},
   "outputs": [
    {
     "data": {
      "text/plain": [
       "'testbar'"
      ]
     },
     "execution_count": null,
     "metadata": {},
     "output_type": "execute_result"
    }
   ],
   "source": [
    "import_gist(gistid)\n",
    "importtest.testfoo"
   ]
  },
  {
   "cell_type": "markdown",
   "metadata": {},
   "source": [
    "## export -"
   ]
  },
  {
   "cell_type": "code",
   "execution_count": null,
   "metadata": {},
   "outputs": [],
   "source": [
    "#|hide\n",
    "from nbdev import nbdev_export\n",
    "nbdev_export()"
   ]
  },
  {
   "cell_type": "code",
   "execution_count": null,
   "metadata": {},
   "outputs": [],
   "source": []
  }
 ],
 "metadata": {
  "kernelspec": {
   "display_name": "python3",
   "language": "python",
   "name": "python3"
  }
 },
 "nbformat": 4,
 "nbformat_minor": 4
}
