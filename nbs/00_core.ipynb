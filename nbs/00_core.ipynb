{
 "cells": [
  {
   "cell_type": "code",
   "execution_count": null,
   "metadata": {},
   "outputs": [],
   "source": [
    "#| default_exp core"
   ]
  },
  {
   "cell_type": "markdown",
   "metadata": {},
   "source": [
    "# dialoghelper"
   ]
  },
  {
   "cell_type": "code",
   "execution_count": null,
   "metadata": {},
   "outputs": [],
   "source": [
    "#| export\n",
    "import inspect, json, importlib, linecache\n",
    "from typing import Dict\n",
    "from tempfile import TemporaryDirectory\n",
    "from ipykernel_helper import *\n",
    "\n",
    "from fastcore.utils import *\n",
    "from fastcore.meta import delegates\n",
    "from ghapi.all import *\n",
    "from fastlite import *\n",
    "from fastcore.xtras import asdict"
   ]
  },
  {
   "cell_type": "code",
   "execution_count": null,
   "metadata": {},
   "outputs": [],
   "source": [
    "#| export\n",
    "_all_ = [\"asdict\"]"
   ]
  },
  {
   "cell_type": "code",
   "execution_count": null,
   "metadata": {},
   "outputs": [],
   "source": [
    "#| export\n",
    "def get_db(ns:dict=None):\n",
    "    app_path = Path('/app') if Path('/.dockerenv').exists() else Path('.')\n",
    "    if os.environ.get('IN_SOLVEIT', False): dataparent,nm = app_path, 'data.db'\n",
    "    else: dataparent,nm = Path('..'),'dev_data.db'\n",
    "    db = database(dataparent/'data'/nm)\n",
    "    dcs = [o for o in all_dcs(db) if o.__name__[0]!='_']\n",
    "    if ns:\n",
    "        for o in dcs: ns[o.__name__]=o\n",
    "    return db"
   ]
  },
  {
   "cell_type": "code",
   "execution_count": null,
   "metadata": {},
   "outputs": [],
   "source": [
    "db = get_db(globals())\n",
    "dlg = db.t.dialog.fetchone()\n",
    "dlg"
   ]
  },
  {
   "cell_type": "code",
   "execution_count": null,
   "metadata": {},
   "outputs": [],
   "source": [
    "#| export\n",
    "def find_var(var:str):\n",
    "    \"Search for var in all frames of the call stack\"\n",
    "    frame = inspect.currentframe()\n",
    "    while frame:\n",
    "        dv = frame.f_globals.get(var, frame.f_locals.get(var, None))\n",
    "        if dv: return dv\n",
    "        frame = frame.f_back\n",
    "    raise ValueError(f\"Could not find {var} in any scope\")"
   ]
  },
  {
   "cell_type": "code",
   "execution_count": null,
   "metadata": {},
   "outputs": [],
   "source": [
    "a = 1\n",
    "find_var('a')"
   ]
  },
  {
   "cell_type": "code",
   "execution_count": null,
   "metadata": {},
   "outputs": [],
   "source": [
    "#| export\n",
    "def find_dialog_id():\n",
    "    \"Get the dialog id by searching the call stack for __dialog_id.\"\n",
    "    return find_var('__dialog_id')"
   ]
  },
  {
   "cell_type": "code",
   "execution_count": null,
   "metadata": {},
   "outputs": [],
   "source": [
    "__dialog_id = dlg.id"
   ]
  },
  {
   "cell_type": "code",
   "execution_count": null,
   "metadata": {},
   "outputs": [],
   "source": [
    "find_dialog_id()"
   ]
  },
  {
   "cell_type": "code",
   "execution_count": null,
   "metadata": {},
   "outputs": [],
   "source": [
    "#| export\n",
    "def find_msgs(\n",
    "    pattern: str, # Text to search for\n",
    "    limit:int=10 # Limit number of returned items\n",
    "):\n",
    "    \"Find messages in a specific dialog that contain the given pattern.\"\n",
    "    did = find_dialog_id()\n",
    "    db = get_db()\n",
    "    res = db.t.message('did=? AND content LIKE ? ORDER BY mid', [did, f'%{pattern}%'], limit=limit)\n",
    "    return [asdict(o) for o in res]"
   ]
  },
  {
   "cell_type": "code",
   "execution_count": null,
   "metadata": {},
   "outputs": [],
   "source": [
    "found = find_msgs('to the')\n",
    "found[0]"
   ]
  },
  {
   "cell_type": "code",
   "execution_count": null,
   "metadata": {},
   "outputs": [],
   "source": [
    "#| export\n",
    "def find_msg_id():\n",
    "    \"Get the message id by searching the call stack for __dialog_id.\"\n",
    "    return find_var('__msg_id')"
   ]
  },
  {
   "cell_type": "code",
   "execution_count": null,
   "metadata": {},
   "outputs": [],
   "source": [
    "__msg_id = found[0].sid"
   ]
  },
  {
   "cell_type": "code",
   "execution_count": null,
   "metadata": {},
   "outputs": [],
   "source": [
    "find_msg_id()"
   ]
  },
  {
   "cell_type": "code",
   "execution_count": null,
   "metadata": {},
   "outputs": [],
   "source": [
    "#| export\n",
    "def read_msg_ids():\n",
    "    \"Get all ids in current dialog.\"\n",
    "    did = find_dialog_id()\n",
    "    db = get_db()\n",
    "    return [o.sid for o in db.t.message('did=?', [did], select='sid', order_by='mid')]"
   ]
  },
  {
   "cell_type": "code",
   "execution_count": null,
   "metadata": {},
   "outputs": [],
   "source": [
    "#| export\n",
    "def msg_idx():\n",
    "    \"Get index of current message in dialog.\"\n",
    "    ids = read_msg_ids()\n",
    "    return ids,ids.index(find_msg_id())"
   ]
  },
  {
   "cell_type": "code",
   "execution_count": null,
   "metadata": {},
   "outputs": [],
   "source": [
    "ids,idx = msg_idx()\n",
    "idx"
   ]
  },
  {
   "cell_type": "code",
   "execution_count": null,
   "metadata": {},
   "outputs": [],
   "source": [
    "#| export\n",
    "def read_msg(n:int=-1,     # Message index (if relative, +ve is downwards)\n",
    "             relative:bool=True  # Is `n` relative to current message (True) or absolute (False)?\n",
    "    ):\n",
    "    \"Get the message indexed in the current dialog.\"\n",
    "    ids,idx = msg_idx()\n",
    "    if relative:\n",
    "        idx = idx+n\n",
    "        if not 0<=idx<len(ids): return None\n",
    "    else: idx = n\n",
    "    db = get_db()\n",
    "    return db.t.message.fetchone('sid=?', [ids[idx]])"
   ]
  },
  {
   "cell_type": "code",
   "execution_count": null,
   "metadata": {},
   "outputs": [],
   "source": [
    "# Previous message relative to current\n",
    "read_msg(-1)"
   ]
  },
  {
   "cell_type": "code",
   "execution_count": null,
   "metadata": {},
   "outputs": [],
   "source": [
    "# Last message in dialog\n",
    "read_msg(-1, relative=False)"
   ]
  },
  {
   "cell_type": "code",
   "execution_count": null,
   "metadata": {},
   "outputs": [],
   "source": [
    "#| export\n",
    "def _msg(\n",
    "    input_tokens: int | None = 0,\n",
    "    output_tokens: int | None = 0,\n",
    "    time_run: str | None = '',\n",
    "    is_exported: int | None = 0,\n",
    "    skipped: int | None = 0,\n",
    "    did: int | None = None,\n",
    "    i_collapsed: int | None = 0,\n",
    "    o_collapsed: int | None = 0,\n",
    "    header_collapsed: int | None = 0,\n",
    "    pinned: int | None = 0\n",
    "): ..."
   ]
  },
  {
   "cell_type": "code",
   "execution_count": null,
   "metadata": {},
   "outputs": [],
   "source": [
    "#| export\n",
    "@delegates(_msg)\n",
    "def add_msg(\n",
    "    content:str, # content of the message (i.e the message prompt, code, or note text)\n",
    "    msg_type: str='note', # message type, can be 'code', 'note', or 'prompt'\n",
    "    output:str='', # for prompts/code, initial output\n",
    "    placement:str='add_after', # can be 'add_after', 'add_before', 'update', 'at_start', 'at_end'\n",
    "    sid:str=None, # id of message that placement is relative to (if None, uses current message)\n",
    "    **kwargs # additional Message fields such as skipped i/o_collapsed, etc, passed through to the server\n",
    "):\n",
    "    \"Add/update a message to the queue to show after code execution completes.\"\n",
    "    assert msg_type in ('note', 'code', 'prompt'), \"msg_type must be 'code', 'note', or 'prompt'.\"\n",
    "    assert msg_type not in ('note') or not output, \"'note' messages cannot have an output.\"\n",
    "    run_cmd('add_msg', content=content, msg_type=msg_type, output=output, placement=placement, sid=sid, **kwargs)"
   ]
  },
  {
   "cell_type": "code",
   "execution_count": null,
   "metadata": {},
   "outputs": [],
   "source": [
    "#| export\n",
    "@delegates(add_msg)\n",
    "def update_msg(\n",
    "    msg:Optional[Dict]=None, # Dictionary of field keys/values to update\n",
    "    sid:str=None, # id of message that placement is relative to (if None, uses current message)\n",
    "    content:str=None, # content of the message (i.e the message prompt, code, or note text)\n",
    "    **kwargs):\n",
    "    \"Update an existing message. Provide either `msg` OR field key/values to update. Use `content` param to update contents.\"\n",
    "    if content: kwargs['content']=content\n",
    "    assert bool(msg)^bool(kwargs), \"Provide *either* msg, for kwargs, not both\"\n",
    "    if msg and 'sid' in msg: target_id = msg['sid']\n",
    "    elif sid: target_id = sid\n",
    "    else: raise TypeError(\"update_msg needs either a dict message or `sid=...`\")\n",
    "    old = asdict(get_db().t.message[target_id])\n",
    "    kw = old | (msg or {}) | kwargs\n",
    "    kw.pop('did', None)\n",
    "    return add_msg(placement='update', **kw)"
   ]
  },
  {
   "cell_type": "code",
   "execution_count": null,
   "metadata": {},
   "outputs": [],
   "source": [
    "#| export\n",
    "def add_html(\n",
    "    html:str, # HTML to add to the DOM\n",
    "):\n",
    "    \"Dynamically add HTML to the current web page. Supports HTMX attrs too.\"\n",
    "    run_cmd('add_ft', html=html)"
   ]
  },
  {
   "cell_type": "code",
   "execution_count": null,
   "metadata": {},
   "outputs": [],
   "source": [
    "#| export\n",
    "def load_gist(gist_id:str):\n",
    "    \"Retrieve a gist\"\n",
    "    api = GhApi()\n",
    "    if '/' in gist_id: *_,user,gist_id = gist_id.split('/')\n",
    "    else: user = None\n",
    "    return api.gists.get(gist_id, user=user)"
   ]
  },
  {
   "cell_type": "code",
   "execution_count": null,
   "metadata": {},
   "outputs": [],
   "source": [
    "gistid = 'jph00/e7cfd4ded593e8ef6217e78a0131960c'\n",
    "gist = load_gist(gistid)\n",
    "gist.html_url"
   ]
  },
  {
   "cell_type": "code",
   "execution_count": null,
   "metadata": {},
   "outputs": [],
   "source": [
    "#| export\n",
    "def gist_file(gist_id:str):\n",
    "    \"Get the first file from a gist\"\n",
    "    gist = load_gist(gist_id)\n",
    "    return first(gist.files.values())"
   ]
  },
  {
   "cell_type": "code",
   "execution_count": null,
   "metadata": {},
   "outputs": [],
   "source": [
    "gfile = gist_file(gistid)\n",
    "print(gfile.content)"
   ]
  },
  {
   "cell_type": "code",
   "execution_count": null,
   "metadata": {},
   "outputs": [],
   "source": [
    "#| export\n",
    "def import_string(\n",
    "    code:str, # Code to import as a module\n",
    "    name:str  # Name of module to create\n",
    "):\n",
    "    with TemporaryDirectory() as tmpdir:\n",
    "        path = Path(tmpdir) / f\"{name}.py\"\n",
    "        path.write_text(code)\n",
    "        # linecache.cache storage allows inspect.getsource() after tmpdir lifetime ends\n",
    "        linecache.cache[str(path)] = (len(code), None, code.splitlines(keepends=True), str(path))\n",
    "        spec = importlib.util.spec_from_file_location(name, path)\n",
    "        module = importlib.util.module_from_spec(spec)\n",
    "        sys.modules[name] = module\n",
    "        spec.loader.exec_module(module)\n",
    "        return module"
   ]
  },
  {
   "cell_type": "code",
   "execution_count": null,
   "metadata": {},
   "outputs": [],
   "source": [
    "#| export\n",
    "def import_gist(\n",
    "    gist_id:str, # user/id or just id of gist to import as a module\n",
    "    mod_name:str=None, # module name to create (taken from gist filename if not passed)\n",
    "    add_global:bool=True # add module to caller's globals?\n",
    "):\n",
    "    \"Import gist directly from string without saving to disk\"\n",
    "    fil = gist_file(gist_id)\n",
    "    mod_name = mod_name or Path(fil['filename']).stem\n",
    "    module = import_string(fil['content'], mod_name)\n",
    "    if add_global: inspect.currentframe().f_back.f_globals[mod_name] = module\n",
    "    return module"
   ]
  },
  {
   "cell_type": "code",
   "execution_count": null,
   "metadata": {},
   "outputs": [],
   "source": [
    "import_gist(gistid)\n",
    "importtest.testfoo"
   ]
  },
  {
   "cell_type": "code",
   "execution_count": null,
   "metadata": {},
   "outputs": [],
   "source": [
    "#| export\n",
    "def import_tools_gist(gist_id: str):\n",
    "    \"\"\"Import tools and prompt from a gist into the current dialog.\n",
    "\n",
    "    The gist should contain:\n",
    "    - A section marked with #%% imports\n",
    "    - A section marked with #%% tools \n",
    "    - A section marked with #%% prompt\n",
    "    \"\"\"\n",
    "    import ast\n",
    "    \n",
    "    # Get gist content\n",
    "    gist = gist_file(gist_id)\n",
    "    content = gist['content']\n",
    "\n",
    "    # Split content into sections\n",
    "    sections = {}\n",
    "    current_section = None\n",
    "    current_content = []\n",
    "\n",
    "    for line in content.splitlines():\n",
    "        if line.startswith('#%%'):\n",
    "            if current_section:\n",
    "                sections[current_section] = '\\n'.join(current_content)\n",
    "            current_section = line.replace('#%%', '').strip()\n",
    "            current_content = []\n",
    "        else:\n",
    "            current_content.append(line)\n",
    "\n",
    "    if current_section:\n",
    "        sections[current_section] = '\\n'.join(current_content)\n",
    "\n",
    "    # Add prompt as pinned message at the start\n",
    "    if 'prompt' in sections:\n",
    "        add_msg(\n",
    "            content=sections['prompt'].strip(),\n",
    "            msg_type='note',\n",
    "            placement='at_start',\n",
    "            pinned=1\n",
    "        )\n",
    "\n",
    "    # Add imports as first code message\n",
    "    if 'imports' in sections:\n",
    "        add_msg(\n",
    "            content=sections['imports'].strip(),\n",
    "            msg_type='code',\n",
    "            placement='at_start'\n",
    "        )\n",
    "\n",
    "    # Add tools as second code message\n",
    "    if 'tools' in sections:\n",
    "        tools_code = sections['tools'].strip()\n",
    "        add_msg(\n",
    "            content=tools_code,\n",
    "            msg_type='code',\n",
    "            placement='at_end'\n",
    "        )\n",
    "        \n",
    "        # Parse function names using ast\n",
    "        tree = ast.parse(tools_code)\n",
    "        func_names = [\n",
    "            node.name \n",
    "            for node in ast.walk(tree) \n",
    "            if isinstance(node, ast.FunctionDef) and not node.name.startswith('_')\n",
    "        ]\n",
    "        \n",
    "        # Add final prompt with function list\n",
    "        add_msg(\n",
    "            content=f\"&`[{', '.join(func_names)}]`\",\n",
    "            msg_type='prompt',\n",
    "            placement='at_end'\n",
    "        )"
   ]
  },
  {
   "cell_type": "markdown",
   "metadata": {},
   "source": [
    "## export -"
   ]
  },
  {
   "cell_type": "code",
   "execution_count": null,
   "metadata": {},
   "outputs": [],
   "source": [
    "#|hide\n",
    "from nbdev import nbdev_export\n",
    "nbdev_export()"
   ]
  },
  {
   "cell_type": "code",
   "execution_count": null,
   "metadata": {},
   "outputs": [],
   "source": []
  }
 ],
 "metadata": {
  "kernelspec": {
   "display_name": "python",
   "language": "python",
   "name": "python"
  }
 },
 "nbformat": 4,
 "nbformat_minor": 4
}
