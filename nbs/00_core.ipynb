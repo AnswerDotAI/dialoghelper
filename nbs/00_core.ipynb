{
 "cells": [
  {
   "cell_type": "code",
   "execution_count": null,
   "id": "955b9784",
   "metadata": {},
   "outputs": [],
   "source": [
    "#| default_exp core"
   ]
  },
  {
   "cell_type": "markdown",
   "id": "0aafe008",
   "metadata": {},
   "source": [
    "# dialoghelper"
   ]
  },
  {
   "cell_type": "code",
   "execution_count": null,
   "id": "e881cda4",
   "metadata": {},
   "outputs": [],
   "source": [
    "#| export\n",
    "import json, importlib, linecache\n",
    "from typing import Dict\n",
    "from tempfile import TemporaryDirectory\n",
    "from ipykernel_helper import *\n",
    "from dataclasses import dataclass\n",
    "from fastcore.xml import to_xml\n",
    "\n",
    "from fastcore.utils import *\n",
    "from fastcore.meta import delegates\n",
    "from ghapi.all import *\n",
    "from fastlite import *\n",
    "from fastcore.xtras import asdict\n",
    "from inspect import currentframe,Parameter,signature\n",
    "from httpx import get as xget, post as xpost\n",
    "from dialoghelper.core import __all__ as _all\n",
    "from IPython.display import display,Markdown"
   ]
  },
  {
   "cell_type": "markdown",
   "id": "08464369",
   "metadata": {},
   "source": [
    "Re-export asdict:"
   ]
  },
  {
   "cell_type": "code",
   "execution_count": null,
   "id": "82476a28",
   "metadata": {},
   "outputs": [],
   "source": [
    "#| export\n",
    "_all_ = [\"asdict\"]"
   ]
  },
  {
   "cell_type": "code",
   "execution_count": null,
   "id": "1fd907bb",
   "metadata": {},
   "outputs": [],
   "source": [
    "#| export\n",
    "def find_var(var:str):\n",
    "    \"Search for var in all frames of the call stack\"\n",
    "    frame = currentframe()\n",
    "    while frame:\n",
    "        dv = frame.f_globals.get(var, frame.f_locals.get(var, None))\n",
    "        if dv: return dv\n",
    "        frame = frame.f_back\n",
    "    raise ValueError(f\"Could not find {var} in any scope\")"
   ]
  },
  {
   "cell_type": "code",
   "execution_count": null,
   "id": "bb0489a1",
   "metadata": {},
   "outputs": [
    {
     "data": {
      "text/plain": [
       "1"
      ]
     },
     "execution_count": null,
     "metadata": {},
     "output_type": "execute_result"
    }
   ],
   "source": [
    "a = 1\n",
    "find_var('a')"
   ]
  },
  {
   "cell_type": "code",
   "execution_count": null,
   "id": "dbffb51c",
   "metadata": {},
   "outputs": [],
   "source": [
    "#| export\n",
    "def call_endp(path, dname='', json=False, raiseex=False, **data):\n",
    "    if not dname: dname = find_dname()\n",
    "    data['dlg_name'] = dname\n",
    "    res = xpost(f'http://localhost:5001/{path}', data=data)\n",
    "    if raiseex: res.raise_for_status()\n",
    "    try: return res.json() if json else res.text\n",
    "    except Exception as e: return str(e)"
   ]
  },
  {
   "cell_type": "code",
   "execution_count": null,
   "id": "a01ad161",
   "metadata": {},
   "outputs": [],
   "source": [
    "#| export\n",
    "def find_dname():\n",
    "    \"Get the message id by searching the call stack for __dialog_id.\"\n",
    "    return find_var('__dialog_name')"
   ]
  },
  {
   "cell_type": "code",
   "execution_count": null,
   "id": "3d93b27c",
   "metadata": {},
   "outputs": [],
   "source": [
    "#| export\n",
    "def find_msg_id():\n",
    "    \"Get the message id by searching the call stack for __dialog_id.\"\n",
    "    return find_var('__msg_id')"
   ]
  },
  {
   "cell_type": "code",
   "execution_count": null,
   "id": "9cbd170d",
   "metadata": {},
   "outputs": [
    {
     "data": {
      "text/plain": [
       "'_9cbd170d'"
      ]
     },
     "execution_count": null,
     "metadata": {},
     "output_type": "execute_result"
    }
   ],
   "source": [
    "find_msg_id()"
   ]
  },
  {
   "cell_type": "code",
   "execution_count": null,
   "id": "a9cb5512",
   "metadata": {},
   "outputs": [],
   "source": [
    "#| export\n",
    "def curr_dialog(\n",
    "    with_messages:bool=False,  # Include messages as well?\n",
    "    dname:str='' # Running dialog to get info for; defaults to current dialog\n",
    "):\n",
    "    \"Get the current dialog info.\"\n",
    "    res = call_endp('curr_dialog_', dname, json=True, with_messages=with_messages)\n",
    "    if res: return {'name': res['name'], 'mode': res['mode']}"
   ]
  },
  {
   "cell_type": "code",
   "execution_count": null,
   "id": "6a4aa03b",
   "metadata": {},
   "outputs": [],
   "source": [
    "#| export\n",
    "def find_msgs(\n",
    "    re_pattern:str='', # Optional regex to search for (re.DOTALL+re.MULTILINE is used)\n",
    "    msg_type:str=None, # optional limit by message type ('code', 'note', or 'prompt')\n",
    "    limit:int=None, # Optionally limit number of returned items\n",
    "    include_output:bool=True, # Include output in returned dict?\n",
    "    dname:str='' # Running dialog to get info for; defaults to current dialog\n",
    "):\n",
    "    \"Find `list[dict]` of messages in current specific dialog that contain the given information. To refer to a message found later, use its `id` field.\"\n",
    "    res = call_endp('find_msgs_', dname, json=True, re_pattern=re_pattern, msg_type=msg_type, limit=limit)['msgs']\n",
    "    if not include_output:\n",
    "        for o in res: o.pop('output', None)\n",
    "    return res"
   ]
  },
  {
   "cell_type": "code",
   "execution_count": null,
   "id": "aa444dff",
   "metadata": {},
   "outputs": [
    {
     "data": {
      "text/plain": [
       "\"# NB: must have a dialogue open including a message with this text in its content\\ntxt = 'tools'\\nfound = find_msgs(txt)\\nfound[0]['content']\""
      ]
     },
     "execution_count": null,
     "metadata": {},
     "output_type": "execute_result"
    }
   ],
   "source": [
    "# NB: must have a dialogue open including a message with this text in its content\n",
    "txt = 'tools'\n",
    "found = find_msgs(txt)\n",
    "found[0]['content']"
   ]
  },
  {
   "cell_type": "code",
   "execution_count": null,
   "id": "19d00175",
   "metadata": {},
   "outputs": [],
   "source": [
    "#| export\n",
    "def msg_idx(\n",
    "    msgid=None,  # Message id to find (defaults to current message)\n",
    "    dname:str='' # Running dialog to get info for; defaults to current dialog\n",
    "):\n",
    "    \"Get absolute index of message in dialog.\"\n",
    "    if not msgid: msgid = find_msg_id()\n",
    "    return call_endp('msg_idx_', dname, json=True, msgid=msgid)['msgid']"
   ]
  },
  {
   "cell_type": "code",
   "execution_count": null,
   "id": "97cf9c42",
   "metadata": {},
   "outputs": [
    {
     "data": {
      "text/plain": [
       "15"
      ]
     },
     "execution_count": null,
     "metadata": {},
     "output_type": "execute_result"
    }
   ],
   "source": [
    "msg_idx()"
   ]
  },
  {
   "cell_type": "code",
   "execution_count": null,
   "id": "fd350235",
   "metadata": {},
   "outputs": [],
   "source": [
    "#| export\n",
    "def read_msg(\n",
    "    n:int=-1,     # Message index (if relative, +ve is downwards)\n",
    "    msgid=None,  # Message id to find (defaults to current message)\n",
    "    relative:bool=True,  # Is `n` relative to current message (True) or absolute (False)?\n",
    "    dname:str='' # Running dialog to get info for; defaults to current dialog\n",
    "    ):\n",
    "    \"Get the `Message` object indexed in the current dialog.\"\n",
    "    if not msgid: msgid = find_msg_id()\n",
    "    return call_endp('read_msg_', dname, json=True, msgid=msgid, n=n, relative=relative)['msg']"
   ]
  },
  {
   "cell_type": "markdown",
   "id": "8e203f85",
   "metadata": {},
   "source": [
    "This message should be found."
   ]
  },
  {
   "cell_type": "code",
   "execution_count": null,
   "id": "287bda51",
   "metadata": {},
   "outputs": [
    {
     "name": "stdout",
     "output_type": "stream",
     "text": [
      "This message should be found.\n"
     ]
    }
   ],
   "source": [
    "# Previous message relative to current\n",
    "print(read_msg(-1)['content'])"
   ]
  },
  {
   "cell_type": "code",
   "execution_count": null,
   "id": "7e3a864f",
   "metadata": {},
   "outputs": [
    {
     "data": {
      "text/plain": [
       "'#|hide\\nfrom nbdev import nbdev_export\\nnbdev_export()'"
      ]
     },
     "execution_count": null,
     "metadata": {},
     "output_type": "execute_result"
    }
   ],
   "source": [
    "# Last message in dialog\n",
    "read_msg(-1, relative=False)['content']"
   ]
  },
  {
   "cell_type": "code",
   "execution_count": null,
   "id": "2489a94d",
   "metadata": {},
   "outputs": [],
   "source": [
    "#| export\n",
    "def add_html(\n",
    "    content:str, # The HTML to send to the client (generally should include hx-swap-oob)\n",
    "    dname:str='' # Running dialog to get info for; defaults to current dialog\n",
    "):\n",
    "    \"Send HTML to the browser to be swapped into the DOM\"\n",
    "    call_endp('add_html_', dname, content=to_xml(content))"
   ]
  },
  {
   "cell_type": "code",
   "execution_count": null,
   "id": "0657b2ca",
   "metadata": {},
   "outputs": [],
   "source": [
    "from fasthtml.common import *"
   ]
  },
  {
   "cell_type": "code",
   "execution_count": null,
   "id": "788a9150",
   "metadata": {},
   "outputs": [],
   "source": [
    "add_html(Div(P('Hi'), hx_swap_oob='beforeend:#dialog-container'))"
   ]
  },
  {
   "cell_type": "code",
   "execution_count": null,
   "id": "5760ca4d",
   "metadata": {},
   "outputs": [],
   "source": [
    "#| export\n",
    "def run_msg(\n",
    "    msgid:str=None, # id of message to execute\n",
    "    dname:str='' # Running dialog to get info for; defaults to current dialog\n",
    "):\n",
    "    \"Adds a message to the run queue. Use read_msg to see the output once it runs.\"\n",
    "    return call_endp('add_runq_', dname, msgid=msgid, api=True)"
   ]
  },
  {
   "cell_type": "code",
   "execution_count": null,
   "id": "1c87c586",
   "metadata": {},
   "outputs": [
    {
     "data": {
      "text/plain": [
       "2"
      ]
     },
     "execution_count": null,
     "metadata": {},
     "output_type": "execute_result"
    }
   ],
   "source": [
    "1+1"
   ]
  },
  {
   "cell_type": "code",
   "execution_count": null,
   "id": "0235d3a4",
   "metadata": {},
   "outputs": [],
   "source": [
    "codeid = read_msg()['id']"
   ]
  },
  {
   "cell_type": "code",
   "execution_count": null,
   "id": "58418e15",
   "metadata": {},
   "outputs": [
    {
     "data": {
      "text/plain": [
       "'{\"status\":\"queued\"}'"
      ]
     },
     "execution_count": null,
     "metadata": {},
     "output_type": "execute_result"
    }
   ],
   "source": [
    "run_msg(codeid)"
   ]
  },
  {
   "cell_type": "code",
   "execution_count": null,
   "id": "fdc5a465",
   "metadata": {},
   "outputs": [],
   "source": [
    "#| export\n",
    "Placements = str_enum('Placements', 'add_after', 'add_before', 'at_start', 'at_end')"
   ]
  },
  {
   "cell_type": "code",
   "execution_count": null,
   "id": "3ad14786",
   "metadata": {},
   "outputs": [],
   "source": [
    "#| export\n",
    "def add_msg(\n",
    "    content:str, # Content of the message (i.e the message prompt, code, or note text)\n",
    "    placement:str='add_after', # Can be 'add_after', 'add_before', 'at_start', 'at_end'\n",
    "    msgid:str=None, # id of message that placement is relative to (if None, uses current message)\n",
    "    msg_type: str='note', # Message type, can be 'code', 'note', or 'prompt'\n",
    "    output:str='', # For prompts/code, initial output\n",
    "    time_run: str | None = '', # When was message executed\n",
    "    is_exported: int | None = 0, # Export message to a module?\n",
    "    skipped: int | None = 0, # Hide message from prompt?\n",
    "    i_collapsed: int | None = 0, # Collapse input?\n",
    "    o_collapsed: int | None = 0, # Collapse output?\n",
    "    heading_collapsed: int | None = 0, # Collapse heading section?\n",
    "    pinned: int | None = 0, # Pin to context?\n",
    "    dname:str='' # Running dialog to get info for; defaults to current dialog\n",
    "):\n",
    "    \"Add/update a message to the queue to show after code execution completes.\"\n",
    "    if placement not in ('at_start','at_end') and not msgid: msgid = find_msg_id()\n",
    "    return call_endp(\n",
    "        'add_relative_', dname, content=content, placement=placement, msgid=msgid, msg_type=msg_type, output=output,\n",
    "        time_run=time_run, is_exported=is_exported, skipped=skipped, pinned=pinned,\n",
    "        i_collapsed=i_collapsed, o_collapsed=o_collapsed, heading_collapsed=heading_collapsed)"
   ]
  },
  {
   "cell_type": "code",
   "execution_count": null,
   "id": "9c544573",
   "metadata": {},
   "outputs": [],
   "source": [
    "_id = add_msg('testing')"
   ]
  },
  {
   "cell_type": "code",
   "execution_count": null,
   "id": "f1ee1903",
   "metadata": {},
   "outputs": [],
   "source": [
    "#| export\n",
    "def del_msg(\n",
    "    msgid:str=None, # id of message to delete\n",
    "    dname:str='' # Running dialog to get info for; defaults to current dialog\n",
    "):\n",
    "    \"Delete a message from the dialog.\"\n",
    "    call_endp('rm_msg_', dname, raiseex=True, msid=msgid)"
   ]
  },
  {
   "cell_type": "code",
   "execution_count": null,
   "id": "9c6c959b",
   "metadata": {},
   "outputs": [],
   "source": [
    "del_msg(_id)"
   ]
  },
  {
   "cell_type": "code",
   "execution_count": null,
   "id": "a9614fcc",
   "metadata": {},
   "outputs": [],
   "source": [
    "#| export\n",
    "@delegates(add_msg)\n",
    "def _add_msg_unsafe(\n",
    "    content:str, # Content of the message (i.e the message prompt, code, or note text)\n",
    "    placement:str='add_after', # Can be 'add_after', 'add_before', 'at_start', 'at_end'\n",
    "    msgid:str=None, # id of message that placement is relative to (if None, uses current message)\n",
    "    run:bool=False, # For prompts, send it to the AI; for code, execute it (*DANGEROUS -- be careful of what you run!)\n",
    "    dname:str='', # Running dialog to get info for; defaults to current dialog\n",
    "    **kwargs\n",
    "):\n",
    "    \"\"\"Add/update a message to the queue to show after code execution completes, and optionally run it. Be sure to pass a `sid` (stable id) not a `mid` (which is used only for sorting, and can change).\n",
    "    *WARNING*--This can execute arbitrary code, so check carefully what you run!--*WARNING\"\"\"\n",
    "    if placement not in ('at_start','at_end') and not msgid: msgid = find_msg_id()\n",
    "    return call_endp(\n",
    "        'add_relative_', dname, content=content, placement=placement, msgid=msgid, run=run, **kwargs)"
   ]
  },
  {
   "cell_type": "code",
   "execution_count": null,
   "id": "44cb1b2a",
   "metadata": {},
   "outputs": [],
   "source": [
    "_id = _add_msg_unsafe('1+1', run=True, msg_type='code')"
   ]
  },
  {
   "cell_type": "code",
   "execution_count": null,
   "id": "8f1e0ee6",
   "metadata": {},
   "outputs": [],
   "source": [
    "del_msg(_id)"
   ]
  },
  {
   "cell_type": "code",
   "execution_count": null,
   "id": "da3525d7",
   "metadata": {},
   "outputs": [],
   "source": [
    "_id = _add_msg_unsafe('Hi', run=True, msg_type='prompt')"
   ]
  },
  {
   "cell_type": "code",
   "execution_count": null,
   "id": "4b0077ef",
   "metadata": {},
   "outputs": [],
   "source": [
    "del_msg(_id)"
   ]
  },
  {
   "cell_type": "code",
   "execution_count": null,
   "id": "023dcb74",
   "metadata": {},
   "outputs": [],
   "source": [
    "#| export\n",
    "def _umsg(\n",
    "    content:str|None=None, # Content of the message (i.e the message prompt, code, or note text)\n",
    "    msg_type: str|None = None, # Message type, can be 'code', 'note', or 'prompt'\n",
    "    output:str|None = None, # For prompts/code, the output\n",
    "    time_run: str | None = None, # When was message executed\n",
    "    is_exported: int | None = None, # Export message to a module?\n",
    "    skipped: int | None = None, # Hide message from prompt?\n",
    "    i_collapsed: int | None = None, # Collapse input?\n",
    "    o_collapsed: int | None = None, # Collapse output?\n",
    "    heading_collapsed: int | None = None, # Collapse heading section?\n",
    "    pinned: int | None = None # Pin to context?\n",
    "): ..."
   ]
  },
  {
   "cell_type": "code",
   "execution_count": null,
   "id": "76ea5418",
   "metadata": {},
   "outputs": [],
   "source": [
    "#| export\n",
    "@delegates(_umsg)\n",
    "def update_msg(\n",
    "    msgid:str=None, # id of message to update (if None, uses current message)\n",
    "    msg:Optional[Dict]=None, # Dictionary of field keys/values to update\n",
    "    dname:str='', # Running dialog to get info for; defaults to current dialog\n",
    "    **kwargs):\n",
    "    \"\"\"Update an existing message. Provide either `msg` OR field key/values to update.\n",
    "    Use `content` param to update contents.\n",
    "    Only include parameters to update--missing ones will be left unchanged.\"\"\"\n",
    "    if not msgid and not msg: raise TypeError(\"update_msg needs either a dict message or `msgid=`\")\n",
    "    return call_endp('add_relative_', dname, placement='update', msgid=msgid, **kwargs)"
   ]
  },
  {
   "cell_type": "code",
   "execution_count": null,
   "id": "4df69d72",
   "metadata": {},
   "outputs": [
    {
     "data": {
      "text/plain": [
       "'_d9aca330'"
      ]
     },
     "execution_count": null,
     "metadata": {},
     "output_type": "execute_result"
    }
   ],
   "source": [
    "_id = add_msg('testing')\n",
    "_id"
   ]
  },
  {
   "cell_type": "code",
   "execution_count": null,
   "id": "05b509a7",
   "metadata": {},
   "outputs": [
    {
     "data": {
      "text/plain": [
       "'_d9aca330'"
      ]
     },
     "execution_count": null,
     "metadata": {},
     "output_type": "execute_result"
    }
   ],
   "source": [
    "update_msg(_id, content='toasting')"
   ]
  },
  {
   "cell_type": "code",
   "execution_count": null,
   "id": "8eaf1438",
   "metadata": {},
   "outputs": [
    {
     "data": {
      "text/plain": [
       "'_d9aca330'"
      ]
     },
     "execution_count": null,
     "metadata": {},
     "output_type": "execute_result"
    }
   ],
   "source": [
    "update_msg(_id, skipped=1)"
   ]
  },
  {
   "cell_type": "code",
   "execution_count": null,
   "id": "ae95747a",
   "metadata": {},
   "outputs": [],
   "source": [
    "del_msg(_id)"
   ]
  },
  {
   "cell_type": "code",
   "execution_count": null,
   "id": "1b6f96c7",
   "metadata": {},
   "outputs": [],
   "source": [
    "#| export\n",
    "def url2note(\n",
    "    url:str, # URL to read\n",
    "    extract_section:bool=True, # If url has an anchor, return only that section\n",
    "    selector:str=None # Select section(s) using BeautifulSoup.select (overrides extract_section)\n",
    "):\n",
    "    \"Read URL as markdown, and add a note below current message with the result\"\n",
    "    res = read_url(url, as_md=True, extract_section=extract_section, selector=selector)\n",
    "    return add_msg(res)"
   ]
  },
  {
   "cell_type": "code",
   "execution_count": null,
   "id": "fff18bc3",
   "metadata": {},
   "outputs": [],
   "source": [
    "_id = url2note('https://www.example.org')"
   ]
  },
  {
   "cell_type": "code",
   "execution_count": null,
   "id": "eef90eee",
   "metadata": {},
   "outputs": [],
   "source": [
    "del_msg(_id)"
   ]
  },
  {
   "cell_type": "code",
   "execution_count": null,
   "id": "7fd95bdf",
   "metadata": {},
   "outputs": [],
   "source": [
    "#| export\n",
    "def ast_py(code:str):\n",
    "    \"Get an SgRoot root node for python `code`\"\n",
    "    from ast_grep_py import SgRoot\n",
    "    return SgRoot(code, \"python\").root()"
   ]
  },
  {
   "cell_type": "code",
   "execution_count": null,
   "id": "af5a9dfe",
   "metadata": {},
   "outputs": [
    {
     "data": {
      "text/plain": [
       "(\"'hello world'\",\n",
       " Range(start=Pos(line=0, col=6, index=6), end=Pos(line=0, col=19, index=19)))"
      ]
     },
     "execution_count": null,
     "metadata": {},
     "output_type": "execute_result"
    }
   ],
   "source": [
    "node = ast_py(\"print('hello world')\")\n",
    "stmt = node.find(pattern=\"print($A)\")\n",
    "res = stmt.get_match('A')\n",
    "res.text(),res.range()"
   ]
  },
  {
   "cell_type": "code",
   "execution_count": null,
   "id": "013f0d0b",
   "metadata": {},
   "outputs": [],
   "source": [
    "#| export\n",
    "def ast_grep(\n",
    "    pattern:str, # ast-grep pattern to search\n",
    "    path=\".\", # path to recursively search for files\n",
    "    lang=\"python\" # language to search/scan\n",
    "):\n",
    "    \"Use the `ast-grep` command to find `pattern` in `path`\"\n",
    "    import json, subprocess\n",
    "    cmd = f\"ast-grep --pattern '{pattern}' --lang {lang} --json=compact\"\n",
    "    if path != \".\": cmd = f\"cd {path} && {cmd}\"\n",
    "    res = subprocess.run(cmd, shell=True, capture_output=True, text=True)\n",
    "    return json.loads(res.stdout) if res.stdout else res.stderr"
   ]
  },
  {
   "cell_type": "code",
   "execution_count": null,
   "id": "1998094e",
   "metadata": {},
   "outputs": [
    {
     "data": {
      "text/plain": [
       "[(\"xpost(f'http://localhost:5001/{path}', data=data)\",\n",
       "  {'B': {'text': 'data',\n",
       "    'range': {'byteOffset': {'start': 1561, 'end': 1565},\n",
       "     'start': {'line': 42, 'column': 54},\n",
       "     'end': {'line': 42, 'column': 58}}},\n",
       "   'A': {'text': \"f'http://localhost:5001/{path}'\",\n",
       "    'range': {'byteOffset': {'start': 1523, 'end': 1554},\n",
       "     'start': {'line': 42, 'column': 16},\n",
       "     'end': {'line': 42, 'column': 47}}}},\n",
       "  'dialoghelper/core.py')]"
      ]
     },
     "execution_count": null,
     "metadata": {},
     "output_type": "execute_result"
    }
   ],
   "source": [
    "res = ast_grep(r\"xpost($A, data=$B)\", '..')\n",
    "[(o['text'],o['metaVariables']['single'],o['file']) for o in res]"
   ]
  },
  {
   "cell_type": "markdown",
   "id": "db2c0e1c",
   "metadata": {},
   "source": [
    "## Gists"
   ]
  },
  {
   "cell_type": "code",
   "execution_count": null,
   "id": "eb4c6bf4",
   "metadata": {},
   "outputs": [],
   "source": [
    "#| export\n",
    "def load_gist(gist_id:str):\n",
    "    \"Retrieve a gist\"\n",
    "    api = GhApi()\n",
    "    if '/' in gist_id: *_,user,gist_id = gist_id.split('/')\n",
    "    else: user = None\n",
    "    return api.gists.get(gist_id, user=user)"
   ]
  },
  {
   "cell_type": "code",
   "execution_count": null,
   "id": "3ab7586f",
   "metadata": {},
   "outputs": [
    {
     "data": {
      "text/plain": [
       "'https://gist.github.com/jph00/e7cfd4ded593e8ef6217e78a0131960c'"
      ]
     },
     "execution_count": null,
     "metadata": {},
     "output_type": "execute_result"
    }
   ],
   "source": [
    "gistid = 'jph00/e7cfd4ded593e8ef6217e78a0131960c'\n",
    "gist = load_gist(gistid)\n",
    "gist.html_url"
   ]
  },
  {
   "cell_type": "code",
   "execution_count": null,
   "id": "3b151f8f",
   "metadata": {},
   "outputs": [],
   "source": [
    "#| export\n",
    "def gist_file(gist_id:str):\n",
    "    \"Get the first file from a gist\"\n",
    "    gist = load_gist(gist_id)\n",
    "    return first(gist.files.values())"
   ]
  },
  {
   "cell_type": "code",
   "execution_count": null,
   "id": "ea33969d",
   "metadata": {},
   "outputs": [
    {
     "name": "stdout",
     "output_type": "stream",
     "text": [
      "\"This is a test module which makes some simple tools available.\"\n",
      "__all__ = [\"hi\",\"whoami\"]\n",
      "\n",
      "testfoo=…\n"
     ]
    }
   ],
   "source": [
    "gfile = gist_file(gistid)\n",
    "print(gfile.content[:100]+\"…\")"
   ]
  },
  {
   "cell_type": "code",
   "execution_count": null,
   "id": "1ccfc95a",
   "metadata": {},
   "outputs": [],
   "source": [
    "#| export\n",
    "def import_string(\n",
    "    code:str, # Code to import as a module\n",
    "    name:str  # Name of module to create\n",
    "):\n",
    "    with TemporaryDirectory() as tmpdir:\n",
    "        path = Path(tmpdir) / f\"{name}.py\"\n",
    "        path.write_text(code)\n",
    "        # linecache.cache storage allows inspect.getsource() after tmpdir lifetime ends\n",
    "        linecache.cache[str(path)] = (len(code), None, code.splitlines(keepends=True), str(path))\n",
    "        spec = importlib.util.spec_from_file_location(name, path)\n",
    "        module = importlib.util.module_from_spec(spec)\n",
    "        sys.modules[name] = module\n",
    "        spec.loader.exec_module(module)\n",
    "        return module"
   ]
  },
  {
   "cell_type": "code",
   "execution_count": null,
   "id": "752bf2df",
   "metadata": {},
   "outputs": [],
   "source": [
    "#| export\n",
    "empty = Parameter.empty\n",
    "\n",
    "def is_usable_tool(func:callable):\n",
    "    \"True if the function has a docstring and all parameters have types, meaning that it can be used as an LLM tool.\"    \n",
    "    if not func.__doc__ or not callable(func): return False\n",
    "    return all(p.annotation != empty for p in signature(func).parameters.values())"
   ]
  },
  {
   "cell_type": "code",
   "execution_count": null,
   "id": "9ec853f7",
   "metadata": {},
   "outputs": [],
   "source": [
    "def hi(who:str):\n",
    "    \"Say hi to `who`\"\n",
    "    return f\"Hello {who}\"\n",
    "\n",
    "def hi2(who):\n",
    "    \"Say hi to `who`\"\n",
    "    return f\"Hello {who}\"\n",
    "\n",
    "def hi3(who:str):\n",
    "    return f\"Hello {who}\"\n",
    "\n",
    "bye = \"bye\""
   ]
  },
  {
   "cell_type": "code",
   "execution_count": null,
   "id": "728affe1",
   "metadata": {},
   "outputs": [],
   "source": [
    "assert is_usable_tool(hi)\n",
    "assert not is_usable_tool(hi2)\n",
    "assert not is_usable_tool(hi3)\n",
    "assert not is_usable_tool(bye)"
   ]
  },
  {
   "cell_type": "code",
   "execution_count": null,
   "id": "27730708",
   "metadata": {},
   "outputs": [],
   "source": [
    "#| export\n",
    "def mk_toollist(syms):\n",
    "    return \"\\n\".join(f\"- &`{sym.__name__}`: {sym.__doc__}\" for sym in syms if is_usable_tool(sym))"
   ]
  },
  {
   "cell_type": "code",
   "execution_count": null,
   "id": "a952258c",
   "metadata": {},
   "outputs": [
    {
     "data": {
      "text/markdown": [
       "- &`hi`: Say hi to `who`"
      ],
      "text/plain": [
       "<IPython.core.display.Markdown object>"
      ]
     },
     "execution_count": null,
     "metadata": {},
     "output_type": "execute_result"
    }
   ],
   "source": [
    "Markdown(mk_toollist([hi]))"
   ]
  },
  {
   "cell_type": "code",
   "execution_count": null,
   "id": "84868ea2",
   "metadata": {},
   "outputs": [],
   "source": [
    "#| export\n",
    "def import_gist(\n",
    "    gist_id:str, # user/id or just id of gist to import as a module\n",
    "    mod_name:str=None, # module name to create (taken from gist filename if not passed)\n",
    "    add_global:bool=True, # add module to caller's globals?\n",
    "    import_wildcard:bool=False, # import all exported symbols to caller's globals\n",
    "    create_msg:bool=False # Add a message that lists usable tools\n",
    "):\n",
    "    \"Import gist directly from string without saving to disk\"\n",
    "    fil = gist_file(gist_id)\n",
    "    mod_name = mod_name or Path(fil['filename']).stem\n",
    "    module = import_string(fil['content'], mod_name)\n",
    "    glbs = currentframe().f_back.f_globals\n",
    "    if add_global: glbs[mod_name] = module\n",
    "    syms = getattr(module, '__all__', None)\n",
    "    if syms is None: syms = [o for o in dir(module) if not o.startswith('_')]\n",
    "    syms = [getattr(module, nm) for nm in syms]\n",
    "    if import_wildcard:\n",
    "        for sym in syms: glbs[sym.__name__] = sym\n",
    "    if create_msg:\n",
    "        pref = getattr(module, '__doc__', \"Tools added to dialog:\")\n",
    "        add_msg(f\"{pref}\\n\\n{mk_toollist(syms)}\")\n",
    "    return module"
   ]
  },
  {
   "cell_type": "code",
   "execution_count": null,
   "id": "aefee238",
   "metadata": {},
   "outputs": [
    {
     "data": {
      "text/plain": [
       "'testbar'"
      ]
     },
     "execution_count": null,
     "metadata": {},
     "output_type": "execute_result"
    }
   ],
   "source": [
    "import_gist(gistid)\n",
    "importtest.testfoo"
   ]
  },
  {
   "cell_type": "code",
   "execution_count": null,
   "id": "4a4f7f89",
   "metadata": {},
   "outputs": [
    {
     "data": {
      "text/plain": [
       "'Import gist directly from string without saving to disk'"
      ]
     },
     "execution_count": null,
     "metadata": {},
     "output_type": "execute_result"
    }
   ],
   "source": [
    "import_gist.__doc__"
   ]
  },
  {
   "cell_type": "code",
   "execution_count": null,
   "id": "e80a7944",
   "metadata": {},
   "outputs": [
    {
     "data": {
      "text/plain": [
       "'testbar'"
      ]
     },
     "execution_count": null,
     "metadata": {},
     "output_type": "execute_result"
    }
   ],
   "source": [
    "import_gist(gistid, import_wildcard=True)\n",
    "importtest.testfoo"
   ]
  },
  {
   "cell_type": "code",
   "execution_count": null,
   "id": "573abb48",
   "metadata": {},
   "outputs": [
    {
     "data": {
      "text/plain": [
       "'Hello Sarah'"
      ]
     },
     "execution_count": null,
     "metadata": {},
     "output_type": "execute_result"
    }
   ],
   "source": [
    "hi(\"Sarah\")"
   ]
  },
  {
   "cell_type": "code",
   "execution_count": null,
   "id": "392dc090",
   "metadata": {},
   "outputs": [
    {
     "data": {
      "text/plain": [
       "['hi', 'whoami']"
      ]
     },
     "execution_count": null,
     "metadata": {},
     "output_type": "execute_result"
    }
   ],
   "source": [
    "importtest.__all__"
   ]
  },
  {
   "cell_type": "markdown",
   "id": "aaa26f67",
   "metadata": {},
   "source": [
    "## Tool info"
   ]
  },
  {
   "cell_type": "markdown",
   "id": "cab73732",
   "metadata": {},
   "source": [
    "This is how we get a superset of tools to include:"
   ]
  },
  {
   "cell_type": "code",
   "execution_count": null,
   "id": "694240b8",
   "metadata": {},
   "outputs": [],
   "source": [
    "#| export\n",
    "def tool_info():\n",
    "    cts='''Tools available from `dialoghelper`:\n",
    "\n",
    "- &`curr_dialog`: Get the current dialog info.\n",
    "- &`msg_idx`: Get absolute index of message in dialog.\n",
    "- &`add_html`: Send HTML to the browser to be swapped into the DOM using hx-swap-oob.\n",
    "- &`find_msg_id`: Get the current message id.\n",
    "- &`find_msgs`: Find messages in current specific dialog that contain the given information.\n",
    "  - (solveit can often get this id directly from its context, and will not need to use this if the required information is already available to it.)\n",
    "- &`read_msg`: Get the message indexed in the current dialog.\n",
    "- &`del_msg`: Delete a message from the dialog.\n",
    "- &`add_msg`: Add/update a message to the queue to show after code execution completes.\n",
    "- &`update_msg`: Update an existing message.\n",
    "- &`url2note`: Read URL as markdown, and add a note below current message with the result'''\n",
    "    add_msg(cts)"
   ]
  },
  {
   "cell_type": "code",
   "execution_count": null,
   "id": "ccc6ffd1",
   "metadata": {},
   "outputs": [
    {
     "name": "stdout",
     "output_type": "stream",
     "text": [
      "- &`find_var`: Search for var in all frames of the call stack\n",
      "- &`find_dname`: Get the message id by searching the call stack for __dialog_id.\n",
      "- &`find_msg_id`: Get the message id by searching the call stack for __dialog_id.\n",
      "- &`curr_dialog`: Get the current dialog info.\n",
      "- &`find_msgs`: Find `list[dict]` of messages in current specific dialog that contain the given information. To refer to a message found later, use its `id` field.\n",
      "- &`msg_idx`: Get absolute index of message in dialog.\n",
      "- &`read_msg`: Get the `Message` object indexed in the current dialog.\n",
      "- &`add_html`: Send HTML to the browser to be swapped into the DOM\n",
      "- &`del_msg`: Delete a message from the dialog.\n",
      "- &`run_msg`: Adds a message to the run queue. Use read_msg to see the output once it runs.\n",
      "- &`add_msg`: Add/update a message to the queue to show after code execution completes.\n",
      "- &`update_msg`: Update an existing message. Provide either `msg` OR field key/values to update.\n",
      "    Use `content` param to update contents.\n",
      "    Only include parameters to update--missing ones will be left unchanged.\n",
      "- &`url2note`: Read URL as markdown, and add a note below current message with the result\n",
      "- &`load_gist`: Retrieve a gist\n",
      "- &`gist_file`: Get the first file from a gist\n",
      "- &`is_usable_tool`: True if the function has a docstring and all parameters have types, meaning that it can be used as an LLM tool.\n",
      "- &`import_gist`: Import gist directly from string without saving to disk\n",
      "- &`asdict`: Convert `o` to a `dict`, supporting dataclasses, namedtuples, iterables, and `__dict__` attrs.\n"
     ]
    }
   ],
   "source": [
    "for o in _all:\n",
    "    s = globals()[o]\n",
    "    if s.__name__[0]=='_' or not s.__doc__: continue\n",
    "    print(f'- &`{s.__name__}`: {s.__doc__}')"
   ]
  },
  {
   "cell_type": "markdown",
   "id": "5aa7e033",
   "metadata": {},
   "source": [
    "## export -"
   ]
  },
  {
   "cell_type": "code",
   "execution_count": null,
   "id": "379099ac",
   "metadata": {},
   "outputs": [],
   "source": [
    "#| hide\n",
    "from nbdev import nbdev_export\n",
    "nbdev_export()"
   ]
  }
 ],
 "metadata": {
  "solveit_dialog_mode": "learning",
  "solveit_ver": 2
 },
 "nbformat": 4,
 "nbformat_minor": 5
}
