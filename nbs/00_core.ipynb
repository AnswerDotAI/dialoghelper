{
 "cells": [
  {
   "cell_type": "code",
   "execution_count": null,
   "metadata": {},
   "outputs": [],
   "source": [
    "#| default_exp core"
   ]
  },
  {
   "cell_type": "markdown",
   "metadata": {},
   "source": [
    "# dialoghelper"
   ]
  },
  {
   "cell_type": "code",
   "execution_count": null,
   "metadata": {},
   "outputs": [],
   "source": [
    "#| export\n",
    "import json, importlib, linecache\n",
    "from typing import Dict\n",
    "from tempfile import TemporaryDirectory\n",
    "from ipykernel_helper import *\n",
    "from dataclasses import dataclass\n",
    "\n",
    "from fastcore.utils import *\n",
    "from fastcore.meta import delegates\n",
    "from ghapi.all import *\n",
    "from fastlite import *\n",
    "from fastcore.xtras import asdict\n",
    "from inspect import currentframe,Parameter,signature"
   ]
  },
  {
   "cell_type": "code",
   "execution_count": null,
   "metadata": {},
   "outputs": [],
   "source": [
    "from IPython.display import display,Markdown"
   ]
  },
  {
   "cell_type": "markdown",
   "metadata": {},
   "source": [
    "Re-export asdict:"
   ]
  },
  {
   "cell_type": "code",
   "execution_count": null,
   "metadata": {},
   "outputs": [],
   "source": [
    "#| export\n",
    "_all_ = [\"asdict\"]"
   ]
  },
  {
   "cell_type": "code",
   "execution_count": null,
   "metadata": {},
   "outputs": [],
   "source": [
    "#| export\n",
    "def get_db(ns:dict=None):\n",
    "    app_path = Path('/app') if Path('/.dockerenv').exists() else Path('.')\n",
    "    if os.environ.get('IN_SOLVEIT', False): dataparent,nm = app_path, 'data.db'\n",
    "    else: dataparent,nm = Path('..'),'dev_data.db'\n",
    "    db = database(dataparent/'data'/nm)\n",
    "    dcs = [o for o in all_dcs(db) if o.__name__[0]!='_']\n",
    "    if ns:\n",
    "        for o in dcs: ns[o.__name__]=o\n",
    "    return db"
   ]
  },
  {
   "cell_type": "code",
   "execution_count": null,
   "metadata": {},
   "outputs": [],
   "source": [
    "# db.conn.filename"
   ]
  },
  {
   "cell_type": "code",
   "execution_count": null,
   "metadata": {},
   "outputs": [],
   "source": [
    "db = get_db(globals())\n",
    "dlg = db.t.dialog.selectone()\n",
    "dlg"
   ]
  },
  {
   "cell_type": "code",
   "execution_count": null,
   "metadata": {},
   "outputs": [],
   "source": [
    "#| export\n",
    "def find_var(var:str):\n",
    "    \"Search for var in all frames of the call stack\"\n",
    "    frame = currentframe()\n",
    "    while frame:\n",
    "        dv = frame.f_globals.get(var, frame.f_locals.get(var, None))\n",
    "        if dv: return dv\n",
    "        frame = frame.f_back\n",
    "    raise ValueError(f\"Could not find {var} in any scope\")"
   ]
  },
  {
   "cell_type": "code",
   "execution_count": null,
   "metadata": {},
   "outputs": [],
   "source": [
    "a = 1\n",
    "find_var('a')"
   ]
  },
  {
   "cell_type": "code",
   "execution_count": null,
   "metadata": {},
   "outputs": [],
   "source": [
    "#| export\n",
    "def find_dialog_id():\n",
    "    \"Get the dialog id by searching the call stack for __dialog_id.\"\n",
    "    return find_var('__dialog_id')"
   ]
  },
  {
   "cell_type": "code",
   "execution_count": null,
   "metadata": {},
   "outputs": [],
   "source": [
    "__dialog_id = dlg.id"
   ]
  },
  {
   "cell_type": "code",
   "execution_count": null,
   "metadata": {},
   "outputs": [],
   "source": [
    "find_dialog_id()"
   ]
  },
  {
   "cell_type": "code",
   "execution_count": null,
   "metadata": {},
   "outputs": [],
   "source": [
    "#| export\n",
    "def find_msgs(\n",
    "    pattern:str='', # Optional text to search for\n",
    "    msg_type:str=None, # optional limit by message type ('code', 'note', or 'prompt')\n",
    "    limit:int=None, # Optionally limit number of returned items\n",
    "    include_output:bool=True # Include output in returned dict?\n",
    "):\n",
    "    \"Find messages in current specific dialog that contain the given information. To refer to a message found later, use its `sid` field (which is the pk).\"\n",
    "    did = find_dialog_id()\n",
    "    db = get_db()\n",
    "    res = db.t.message('did=? AND content LIKE ? ORDER BY mid', [did, f'%{pattern}%'], limit=limit)\n",
    "    res = [asdict(o) for o in res if not msg_type or (msg_type==o.msg_type)]\n",
    "    if not include_output:\n",
    "        for o in res: o.pop('output', None)\n",
    "    return res"
   ]
  },
  {
   "cell_type": "code",
   "execution_count": null,
   "metadata": {},
   "outputs": [],
   "source": [
    "found = find_msgs('hello')\n",
    "found[0]['content']"
   ]
  },
  {
   "cell_type": "code",
   "execution_count": null,
   "metadata": {},
   "outputs": [],
   "source": [
    "find_msgs(msg_type='prompt', include_output=False)"
   ]
  },
  {
   "cell_type": "code",
   "execution_count": null,
   "metadata": {},
   "outputs": [],
   "source": [
    "#| export\n",
    "def find_msg_id():\n",
    "    \"Get the message id by searching the call stack for __dialog_id.\"\n",
    "    return find_var('__msg_id')"
   ]
  },
  {
   "cell_type": "code",
   "execution_count": null,
   "metadata": {},
   "outputs": [],
   "source": [
    "__msg_id = found[0]['sid']"
   ]
  },
  {
   "cell_type": "code",
   "execution_count": null,
   "metadata": {},
   "outputs": [],
   "source": [
    "find_msg_id()"
   ]
  },
  {
   "cell_type": "code",
   "execution_count": null,
   "metadata": {},
   "outputs": [],
   "source": [
    "#| export\n",
    "def read_msg_ids():\n",
    "    \"Get all ids in current dialog.\"\n",
    "    did = find_dialog_id()\n",
    "    db = get_db()\n",
    "    return [o.sid for o in db.t.message('did=?', [did], select='sid', order_by='mid')]"
   ]
  },
  {
   "cell_type": "code",
   "execution_count": null,
   "metadata": {},
   "outputs": [],
   "source": [
    "#| export\n",
    "def msg_idx():\n",
    "    \"Get relative index of current message in dialog.\"\n",
    "    ids = read_msg_ids()\n",
    "    return ids,ids.index(find_msg_id())"
   ]
  },
  {
   "cell_type": "code",
   "execution_count": null,
   "metadata": {},
   "outputs": [],
   "source": [
    "ids,idx = msg_idx()\n",
    "idx"
   ]
  },
  {
   "cell_type": "code",
   "execution_count": null,
   "metadata": {},
   "outputs": [],
   "source": [
    "#| export\n",
    "def read_msg(n:int=-1,     # Message index (if relative, +ve is downwards)\n",
    "             relative:bool=True  # Is `n` relative to current message (True) or absolute (False)?\n",
    "    ):\n",
    "    \"Get the message indexed in the current dialog.\"\n",
    "    ids,idx = msg_idx()\n",
    "    if relative:\n",
    "        idx = idx+n\n",
    "        if not 0<=idx<len(ids): return None\n",
    "    else: idx = n\n",
    "    db = get_db()\n",
    "    return db.t.message.fetchone('sid=?', [ids[idx]])"
   ]
  },
  {
   "cell_type": "code",
   "execution_count": null,
   "metadata": {},
   "outputs": [],
   "source": [
    "# Previous message relative to current\n",
    "read_msg(-1)"
   ]
  },
  {
   "cell_type": "code",
   "execution_count": null,
   "metadata": {},
   "outputs": [],
   "source": [
    "# Last message in dialog\n",
    "read_msg(-1, relative=False)"
   ]
  },
  {
   "cell_type": "code",
   "execution_count": null,
   "metadata": {},
   "outputs": [],
   "source": [
    "#| export\n",
    "def _msg(\n",
    "    time_run: str | None = '', # When was message executed\n",
    "    is_exported: int | None = 0, # Export message to a module?\n",
    "    skipped: int | None = 0, # Hide message from prompt?\n",
    "    i_collapsed: int | None = 0, # Collapse input?\n",
    "    o_collapsed: int | None = 0, # Collapse output?\n",
    "    header_collapsed: int | None = 0, # Collapse heading section?\n",
    "    pinned: int | None = 0 # Pin to context?\n",
    "): ...\n",
    "\n",
    "Placements = str_enum('Placements', 'add_after', 'add_before', 'update', 'at_start', 'at_end')"
   ]
  },
  {
   "cell_type": "code",
   "execution_count": null,
   "metadata": {},
   "outputs": [],
   "source": [
    "#| export\n",
    "@delegates(_msg)\n",
    "def add_msg(\n",
    "    content:str, # Content of the message (i.e the message prompt, code, or note text)\n",
    "    msg_type: str='note', # Message type, can be 'code', 'note', or 'prompt'\n",
    "    output:str='', # For prompts/code, initial output\n",
    "    placement:str='add_after', # Can be 'add_after', 'add_before', 'update', 'at_start', 'at_end'\n",
    "    sid:str=None, # sid (stable id -- pk) of message that placement is relative to (if None, uses current message)\n",
    "    **kwargs\n",
    "):\n",
    "    \"Add/update a message to the queue to show after code execution completes. Be sure to pass a `sid` (stable id) not a `mid` (which is used only for sorting, and can change).\"\n",
    "    assert msg_type in ('note', 'code', 'prompt'), \"msg_type must be 'code', 'note', or 'prompt'.\"\n",
    "    assert msg_type not in ('note') or not output, \"'note' messages cannot have an output.\"\n",
    "    run_cmd('add_msg', content=content, msg_type=msg_type, output=output, placement=placement, sid=sid, **kwargs)"
   ]
  },
  {
   "cell_type": "code",
   "execution_count": null,
   "metadata": {},
   "outputs": [],
   "source": [
    "#| export\n",
    "def _umsg(\n",
    "    content:str|None = None, # Content of the message (i.e the message prompt, code, or note text)\n",
    "    msg_type: str|None = None, # Message type, can be 'code', 'note', or 'prompt'\n",
    "    output:str|None = None, # For prompts/code, the output\n",
    "    time_run: str | None = None, # When was message executed\n",
    "    is_exported: int | None = None, # Export message to a module?\n",
    "    skipped: int | None = None, # Hide message from prompt?\n",
    "    i_collapsed: int | None = None, # Collapse input?\n",
    "    o_collapsed: int | None = None, # Collapse output?\n",
    "    header_collapsed: int | None = None, # Collapse heading section?\n",
    "    pinned: int | None = None # Pin to context?\n",
    "): ..."
   ]
  },
  {
   "cell_type": "code",
   "execution_count": null,
   "metadata": {},
   "outputs": [],
   "source": [
    "#| export\n",
    "@delegates(_umsg)\n",
    "def update_msg(\n",
    "    msg:Optional[Dict]=None, # Dictionary of field keys/values to update\n",
    "    sid:str=None, # sid (stable id -- pk) of message to update (if None, uses current message)\n",
    "    **kwargs):\n",
    "    \"\"\"Update an existing message. Provide either `msg` OR field key/values to update.\n",
    "    Use `content` param to update contents. Be sure to pass a `sid` (stable id -- the pk) not a `mid`\n",
    "    (which is used only for sorting, and can change).\n",
    "    Only include parameters to update--missing ones will be left unchanged.\"\"\"\n",
    "    kw = (msg or {}) | kwargs\n",
    "    sid = kw.pop('sid', sid)\n",
    "    if not sid: raise TypeError(\"update_msg needs either a dict message or `sid=...`\")\n",
    "    kw.pop('did', None)\n",
    "    run_cmd('add_msg', placement='update', sid=sid, **kw)"
   ]
  },
  {
   "cell_type": "code",
   "execution_count": null,
   "metadata": {},
   "outputs": [],
   "source": [
    "#| export\n",
    "def add_html(\n",
    "    html:str, # HTML to add to the DOM\n",
    "):\n",
    "    \"Dynamically add HTML to the current web page. Supports HTMX attrs too.\"\n",
    "    run_cmd('add_ft', html=html)"
   ]
  },
  {
   "cell_type": "code",
   "execution_count": null,
   "metadata": {},
   "outputs": [],
   "source": [
    "#| export\n",
    "def load_gist(gist_id:str):\n",
    "    \"Retrieve a gist\"\n",
    "    api = GhApi()\n",
    "    if '/' in gist_id: *_,user,gist_id = gist_id.split('/')\n",
    "    else: user = None\n",
    "    return api.gists.get(gist_id, user=user)"
   ]
  },
  {
   "cell_type": "code",
   "execution_count": null,
   "metadata": {},
   "outputs": [
    {
     "data": {
      "text/plain": [
       "'https://gist.github.com/jph00/e7cfd4ded593e8ef6217e78a0131960c'"
      ]
     },
     "execution_count": null,
     "metadata": {},
     "output_type": "execute_result"
    }
   ],
   "source": [
    "gistid = 'jph00/e7cfd4ded593e8ef6217e78a0131960c'\n",
    "gist = load_gist(gistid)\n",
    "gist.html_url"
   ]
  },
  {
   "cell_type": "code",
   "execution_count": null,
   "metadata": {},
   "outputs": [],
   "source": [
    "#| export\n",
    "def gist_file(gist_id:str):\n",
    "    \"Get the first file from a gist\"\n",
    "    gist = load_gist(gist_id)\n",
    "    return first(gist.files.values())"
   ]
  },
  {
   "cell_type": "code",
   "execution_count": null,
   "metadata": {},
   "outputs": [
    {
     "name": "stdout",
     "output_type": "stream",
     "text": [
      "\"This is a test module which makes some simple tools available.\"\n",
      "__all__ = [\"hi\",\"whoami\"]\n",
      "\n",
      "testfoo=…\n"
     ]
    }
   ],
   "source": [
    "gfile = gist_file(gistid)\n",
    "print(gfile.content[:100]+\"…\")"
   ]
  },
  {
   "cell_type": "code",
   "execution_count": null,
   "metadata": {},
   "outputs": [],
   "source": [
    "#| export\n",
    "def import_string(\n",
    "    code:str, # Code to import as a module\n",
    "    name:str  # Name of module to create\n",
    "):\n",
    "    with TemporaryDirectory() as tmpdir:\n",
    "        path = Path(tmpdir) / f\"{name}.py\"\n",
    "        path.write_text(code)\n",
    "        # linecache.cache storage allows inspect.getsource() after tmpdir lifetime ends\n",
    "        linecache.cache[str(path)] = (len(code), None, code.splitlines(keepends=True), str(path))\n",
    "        spec = importlib.util.spec_from_file_location(name, path)\n",
    "        module = importlib.util.module_from_spec(spec)\n",
    "        sys.modules[name] = module\n",
    "        spec.loader.exec_module(module)\n",
    "        return module"
   ]
  },
  {
   "cell_type": "code",
   "execution_count": null,
   "metadata": {},
   "outputs": [],
   "source": [
    "#| export\n",
    "empty = Parameter.empty\n",
    "\n",
    "def is_usable_tool(func:callable):\n",
    "    \"True if the function has a docstring and all parameters have types, meaning that it can be used as an LLM tool.\"    \n",
    "    if not func.__doc__ or not callable(func): return False\n",
    "    return all(p.annotation != empty for p in signature(func).parameters.values())"
   ]
  },
  {
   "cell_type": "code",
   "execution_count": null,
   "metadata": {},
   "outputs": [],
   "source": [
    "def hi(who:str):\n",
    "    \"Say hi to `who`\"\n",
    "    return f\"Hello {who}\"\n",
    "\n",
    "def hi2(who):\n",
    "    \"Say hi to `who`\"\n",
    "    return f\"Hello {who}\"\n",
    "\n",
    "def hi3(who:str):\n",
    "    return f\"Hello {who}\"\n",
    "\n",
    "bye = \"bye\""
   ]
  },
  {
   "cell_type": "code",
   "execution_count": null,
   "metadata": {},
   "outputs": [],
   "source": [
    "assert is_usable_tool(hi)\n",
    "assert not is_usable_tool(hi2)\n",
    "assert not is_usable_tool(hi3)\n",
    "assert not is_usable_tool(bye)"
   ]
  },
  {
   "cell_type": "code",
   "execution_count": null,
   "metadata": {},
   "outputs": [],
   "source": [
    "#| export\n",
    "def mk_toollist(syms):\n",
    "    return \"\\n\".join(f\"- &`{sym.__name__}`: {sym.__doc__}\" for sym in syms if is_usable_tool(sym))"
   ]
  },
  {
   "cell_type": "code",
   "execution_count": null,
   "metadata": {},
   "outputs": [
    {
     "data": {
      "text/markdown": [
       "- &`hi`: Say hi to `who`"
      ],
      "text/plain": [
       "<IPython.core.display.Markdown object>"
      ]
     },
     "execution_count": null,
     "metadata": {},
     "output_type": "execute_result"
    }
   ],
   "source": [
    "Markdown(mk_toollist([hi]))"
   ]
  },
  {
   "cell_type": "code",
   "execution_count": null,
   "metadata": {},
   "outputs": [],
   "source": [
    "#| export\n",
    "def import_gist(\n",
    "    gist_id:str, # user/id or just id of gist to import as a module\n",
    "    mod_name:str=None, # module name to create (taken from gist filename if not passed)\n",
    "    add_global:bool=True, # add module to caller's globals?\n",
    "    import_wildcard:bool=False, # import all exported symbols to caller's globals\n",
    "    create_msg:bool=False # Add a message that lists usable tools\n",
    "):\n",
    "    \"Import gist directly from string without saving to disk\"\n",
    "    fil = gist_file(gist_id)\n",
    "    mod_name = mod_name or Path(fil['filename']).stem\n",
    "    module = import_string(fil['content'], mod_name)\n",
    "    glbs = currentframe().f_back.f_globals\n",
    "    if add_global: glbs[mod_name] = module\n",
    "    syms = getattr(module, '__all__', None)\n",
    "    if syms is None: syms = [o for o in dir(module) if not o.startswith('_')]\n",
    "    syms = [getattr(module, nm) for nm in syms]\n",
    "    if import_wildcard:\n",
    "        for sym in syms: glbs[sym.__name__] = sym\n",
    "    if create_msg:\n",
    "        pref = getattr(module, '__doc__', \"Tools added to dialog:\")\n",
    "        add_msg(f\"{pref}\\n\\n{mk_toollist(syms)}\")\n",
    "    return module"
   ]
  },
  {
   "cell_type": "code",
   "execution_count": null,
   "metadata": {},
   "outputs": [
    {
     "data": {
      "text/plain": [
       "'testbar'"
      ]
     },
     "execution_count": null,
     "metadata": {},
     "output_type": "execute_result"
    }
   ],
   "source": [
    "import_gist(gistid)\n",
    "importtest.testfoo"
   ]
  },
  {
   "cell_type": "code",
   "execution_count": null,
   "metadata": {},
   "outputs": [
    {
     "data": {
      "text/plain": [
       "'Import gist directly from string without saving to disk'"
      ]
     },
     "execution_count": null,
     "metadata": {},
     "output_type": "execute_result"
    }
   ],
   "source": [
    "import_gist.__doc__"
   ]
  },
  {
   "cell_type": "code",
   "execution_count": null,
   "metadata": {},
   "outputs": [],
   "source": [
    "import_gist(gistid, import_wildcard=True)\n",
    "importtest.testfoo"
   ]
  },
  {
   "cell_type": "code",
   "execution_count": null,
   "metadata": {},
   "outputs": [],
   "source": [
    "hi(\"Sarah\")"
   ]
  },
  {
   "cell_type": "code",
   "execution_count": null,
   "metadata": {},
   "outputs": [],
   "source": [
    "importtest.__all__"
   ]
  },
  {
   "cell_type": "markdown",
   "metadata": {},
   "source": [
    "## Importing and Exporting Dialogs"
   ]
  },
  {
   "cell_type": "markdown",
   "metadata": {},
   "source": [
    "We use json serialization of `list[dict]` to represent a dialogue where `dict` is a serialized `solveit.db_dc` `Message`. "
   ]
  },
  {
   "cell_type": "markdown",
   "metadata": {},
   "source": [
    "### Supported Fields"
   ]
  },
  {
   "cell_type": "code",
   "execution_count": null,
   "metadata": {},
   "outputs": [],
   "source": [
    "from dialoghelper.db_dc import Message"
   ]
  },
  {
   "cell_type": "code",
   "execution_count": null,
   "metadata": {},
   "outputs": [
    {
     "data": {
      "text/plain": [
       "{'sid': str | None,\n",
       " 'mid': str | None,\n",
       " 'content': str | None,\n",
       " 'output': str | None,\n",
       " 'input_tokens': int | None,\n",
       " 'output_tokens': int | None,\n",
       " 'msg_type': str | None,\n",
       " 'time_run': str | None,\n",
       " 'is_exported': int | None,\n",
       " 'skipped': int | None,\n",
       " 'did': int | None,\n",
       " 'i_collapsed': int | None,\n",
       " 'o_collapsed': int | None,\n",
       " 'header_collapsed': int | None,\n",
       " 'pinned': int | None}"
      ]
     },
     "execution_count": null,
     "metadata": {},
     "output_type": "execute_result"
    }
   ],
   "source": [
    "Message.__annotations__"
   ]
  },
  {
   "cell_type": "markdown",
   "metadata": {},
   "source": [
    "When exporting and importing we intentionally leave out these fields:\n",
    "- `sid` - to avoid duplicating sids across dialogues\n",
    "- `mid` - to ensure `mid` respects ordering in the new dialogue\n",
    "- `did` - since the dialogue will be imported into a different dialogue\n",
    "- `time_run` - since a dialogue may be imported/exported to other environments where execution time is not comparable.\n",
    "\n",
    "The following are required:\n",
    "- `content`\n",
    "- `msg_type`\n",
    "- `output`\n",
    "\n",
    "All other fields (`i_collapsed`, `header_collapsed`, ... etc) are technically optional. By default we read them on import if they are available. However, there may be other dialog-consuming applications (shell sage, discord buddy, others) we want to share dialogues with where these fields are not supported by the interface."
   ]
  },
  {
   "cell_type": "markdown",
   "metadata": {},
   "source": [
    "### Attachments"
   ]
  },
  {
   "cell_type": "markdown",
   "metadata": {},
   "source": [
    "For now attachments are not included in the importing and exporting.\n",
    "\n",
    "Attachments could be added as a future enhanement but would add some additional design considerations - if attachments refer to external artifacts, do the artifacts get copied? Do they get bundled as part of the export artifact? Do we create a new artifact entry with a new sid for the new dialogue or do we share artifacts?"
   ]
  },
  {
   "cell_type": "markdown",
   "metadata": {},
   "source": [
    "### Implementation"
   ]
  },
  {
   "cell_type": "code",
   "execution_count": null,
   "metadata": {},
   "outputs": [],
   "source": [
    "#| export\n",
    "\n",
    "__EXPORT_FIELDS = set('content output input_tokens output_tokens msg_type is_exported skipped pinned i_collapsed o_collapsed header_collapsed'.split())\n",
    "\n",
    "__REQUIRED_FIELDS = set('content output msg_type'.split())"
   ]
  },
  {
   "cell_type": "code",
   "execution_count": null,
   "metadata": {},
   "outputs": [],
   "source": [
    "#| export\n",
    "def export_dialog(filename: str, did:int=None):\n",
    "    \"Export dialog messages and optionally attachments to JSON\"\n",
    "    if did is None: did = find_dialog_id()\n",
    "    db = get_db()\n",
    "    msgs = db.t.message('did=? and (pinned=0 or pinned is null)', [did], order_by='mid')\n",
    "    msg_data = [{k:getattr(msg,k) for k in __EXPORT_FIELDS if hasattr(msg, k)}\n",
    "                for msg in msgs]\n",
    "    result = {'messages': msg_data, 'dialog_name': db.t.dialog[did].name}\n",
    "    with open(filename, 'w') as f: json.dump(result, f, indent=2)"
   ]
  },
  {
   "cell_type": "code",
   "execution_count": null,
   "metadata": {},
   "outputs": [
    {
     "name": "stdout",
     "output_type": "stream",
     "text": [
      "hello world\n"
     ]
    }
   ],
   "source": [
    "try:\n",
    "    test_path = Path('test.json')\n",
    "    export_dialog(test_path)\n",
    "    test_msgs = test_path.read_json()\n",
    "    print(test_msgs['messages'][1]['content'])\n",
    "finally: test_path.unlink(missing_ok=True)"
   ]
  },
  {
   "cell_type": "code",
   "execution_count": null,
   "metadata": {},
   "outputs": [],
   "source": [
    "#| export\n",
    "def import_dialog(fname, add_header=True):\n",
    "    \"Import dialog messages from JSON file using `add_msg`\"\n",
    "    data = json.loads(Path(fname).read_text())\n",
    "    for msg in data['messages'][::-1]:\n",
    "        opts = {k:msg[k] for k in __EXPORT_FIELDS - __REQUIRED_FIELDS if k in msg}\n",
    "        add_msg(msg.get('content',''), msg.get('msg_type','note'), msg.get('output',''), 'at_end', **opts)\n",
    "    if add_header: add_msg(f\"# Imported Dialog `{fname}`\", 'note', placement='at_end')\n",
    "    return f\"Imported {len(data['messages'])} messages\""
   ]
  },
  {
   "cell_type": "markdown",
   "metadata": {},
   "source": [
    "## export -"
   ]
  },
  {
   "cell_type": "code",
   "execution_count": null,
   "metadata": {},
   "outputs": [],
   "source": [
    "#|hide\n",
    "from nbdev import nbdev_export\n",
    "nbdev_export()"
   ]
  },
  {
   "cell_type": "code",
   "execution_count": null,
   "metadata": {},
   "outputs": [],
   "source": []
  }
 ],
 "metadata": {
  "kernelspec": {
   "display_name": "python3",
   "language": "python",
   "name": "python3"
  }
 },
 "nbformat": 4,
 "nbformat_minor": 4
}
