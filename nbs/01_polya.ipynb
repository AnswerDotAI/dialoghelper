{
 "cells": [
  {
   "cell_type": "code",
   "execution_count": 1,
   "metadata": {},
   "outputs": [],
   "source": [
    "#| default_exp polya"
   ]
  },
  {
   "cell_type": "markdown",
   "metadata": {},
   "source": [
    "# dialoghelper.polya\n",
    "> Implement Polya questions as SolveIt prompt messages\n",
    "> - each function will replace the code cell with a prompt cell\n",
    "> - the user then can click the cell header and click \"Submit\" to ask SolveIt\n",
    "\n",
    "Example usage:\n",
    "```python\n",
    "# In SolveIt...\n",
    "\n",
    "# Cell 1\n",
    "\n",
    "import dialoghelper.polya as dhp\n",
    "\n",
    "# Cell 2\n",
    "dhp.understand.summary()\n",
    "\n",
    "# Cell 3\n",
    "dhp.plan.chunks()\n",
    "\n",
    "# Cell 4\n",
    "dhp.act.next()\n",
    "\n",
    "# Cell 5\n",
    "dhp.review.learned()\n",
    "\n",
    "# Cell 6\n",
    "dhp.review.improve()\n",
    "\n",
    "```"
   ]
  },
  {
   "cell_type": "code",
   "execution_count": 2,
   "metadata": {},
   "outputs": [],
   "source": [
    "#| export\n",
    "from dialoghelper.core import *"
   ]
  },
  {
   "cell_type": "code",
   "execution_count": 3,
   "metadata": {},
   "outputs": [],
   "source": [
    "#| export\n",
    "\n",
    "# Step: inspired by contextpack.Topic\n",
    "class Step:\n",
    "    def _children(self):\n",
    "        return sorted(list(set(c for c in dir(self) if not c.startswith('_')) - {'get','getter','docs'}))\n",
    "    def __iter__(self): \n",
    "        yield from (getattr(self, name) for name in self._children() \n",
    "                    if isinstance(getattr(self, name),QQ))\n",
    "    def __repr__(self):\n",
    "        s = ''\n",
    "        if self.__doc__: s += f\"doc: {self.__doc__}\\n\"\n",
    "        if (cs := self._children()): s += f\"question: {cs}\\n\"            \n",
    "        return s\n",
    "\n",
    "# QQ replaces the SolveIt cell with its given question/prompt/note\n",
    "class QQ:\n",
    "    def __init__(self, content, msg_type=\"prompt\"):\n",
    "        self.content = content\n",
    "        self.msg_type = msg_type\n",
    "\n",
    "    def __call__(self):\n",
    "        update_msg(content=self.content, msg_type=self.msg_type, sid=read_msg(0).sid)\n",
    "\n",
    "    def __repr__(self):\n",
    "        f\"{self.msg_type}: \\\"{self.content}\\\"\"\n"
   ]
  },
  {
   "cell_type": "code",
   "execution_count": 4,
   "metadata": {},
   "outputs": [],
   "source": [
    "#| export\n",
    "\n",
    "class PolyaUnderstand(Step):\n",
    "    def __init__(self):\n",
    "        self.summary = QQ(\"Could you please give a concise summary of the problem?\")\n",
    "        self.info = QQ(\"What information do we have? What information do we not have? What might change as we learn more?\")\n",
    "        self.similar = QQ(\"Have you seen a similar problem before?\")\n",
    "        self.lateral = QQ(\"Can you relate this problem to a more general or a more specific problem?\")\n",
    "        self.related = QQ(\"Can you think of a related problem that we can solve? It could even be a simpler one we could solve first to help understand this one.\")\n",
    "        self.viz = QQ(\"Can we create a figure or diagram to represent of the problem?\")\n",
    "        self.notation = QQ(\"Can we pick a suitable notation (e.g. symbols for quantities/data, states, and transitions)?\")        \n",
    "        self.simplest = QQ(\"What might be the simplest way to look at this problem?\")        \n",
    "        self.simplify = QQ(\"Can we separate the various parts of the problem (e.g. break down complex conditions into simpler ones)?\")\n",
    "        "
   ]
  },
  {
   "cell_type": "code",
   "execution_count": 5,
   "metadata": {},
   "outputs": [],
   "source": [
    "#| export\n",
    "\n",
    "class PolyaPlan(Step):\n",
    "    def __init__(self):\n",
    "        self.chunks = QQ(\"Could you please break down the problem into smaller sub-problems?\")\n",
    "        self.partial = QQ(\"Is there a smaller part or representation of the problem we could solve?\")\n",
    "        self.known_approach = QQ(\"Could we use a known algorithm or library to solve the problem, or some of it?\")\n",
    "        self.verifiable = QQ(\"How would we verify if our solution is consistent and correct?\")\n",
    "        self.backward = QQ(\"Can we work backward from the desired result?\")\n",
    "        self.aux = QQ(\"Could we use an auxiliary element (e.g., a variable, diagram, or example) to clarify the path?\")\n",
    "        self.analogy = QQ(\"Can you use analogy or similarity to relate the problem to a known solution?\")\n",
    "\n",
    "\n",
    "        \n"
   ]
  },
  {
   "cell_type": "code",
   "execution_count": 6,
   "metadata": {},
   "outputs": [],
   "source": [
    "#| export\n",
    "\n",
    "class PolyaAct(Step):\n",
    "    def __init__(self):\n",
    "        self.review = QQ(\"Could you please critique the plan of attack? Be frank, do not be afraid to be critical.\")\n",
    "        self.doubt = QQ(\"Are we using the right approach?\")\n",
    "        self.other = QQ(\"Is there another way to look at this?\")\n",
    "        self.partial = QQ(\"Are there any intermediate results or milestones that we can aim for?\")\n",
    "        self.symmetry = QQ(\"Are there any symmetries or patterns in the problem that we can exploit?\")\n",
    "        self.next = QQ(\"What is next?\")\n",
    "        self.valid = QQ(\"Does this step seem to have been a valid step?\")\n",
    "        self.check = QQ(\"Does this step seem correct?\")\n",
    "        self.simpler = QQ(\"Was there a simpler way we could have done this step?\")\n",
    "        self.all = QQ(\"Did we cover all of the data or examples for this step?\")        \n",
    "        "
   ]
  },
  {
   "cell_type": "code",
   "execution_count": 7,
   "metadata": {},
   "outputs": [],
   "source": [
    "#| export\n",
    "\n",
    "class PolyaReview(Step):\n",
    "    def __init__(self):\n",
    "        self.all = QQ(\"Did we cover all of the data or examples for this problem?\")\n",
    "        self.sanity = QQ(\"Does the result make sense? Can we verify by substition or another method?\")\n",
    "        self.grok = QQ(\"**To consider:** Can I understand the solution without having to perform all the steps?\", \"note\")\n",
    "        self.learned = QQ(\"What lessons have I learned from this?\")\n",
    "        self.general = QQ(\"Can we generalize the solution to other similar problems?\")\n",
    "        self.alter = QQ(\"Can you think of alternative solutions or approaches that might be more efficient or effective?\")\n",
    "        self.other = QQ(\"Can we derive the result differently?\")\n",
    "        self.simpler = QQ(\"Can we derive the result in a simpler way?\")\n",
    "        self.principles = QQ(\"Can you identify any underlying principles or patterns that emerged during the solution process?\")\n",
    "        self.test = QQ(\"What are some different ways we can test this?\")\n"
   ]
  },
  {
   "cell_type": "code",
   "execution_count": 8,
   "metadata": {},
   "outputs": [],
   "source": [
    "#| export\n",
    "\n",
    "understand = PolyaUnderstand()\n",
    "plan = PolyaPlan()\n",
    "act = PolyaAct()\n",
    "review = PolyaReview()"
   ]
  },
  {
   "cell_type": "markdown",
   "metadata": {},
   "source": [
    "## export -"
   ]
  },
  {
   "cell_type": "code",
   "execution_count": 9,
   "metadata": {},
   "outputs": [],
   "source": [
    "#|hide\n",
    "from nbdev import nbdev_export\n",
    "nbdev_export()"
   ]
  },
  {
   "cell_type": "code",
   "execution_count": null,
   "metadata": {},
   "outputs": [],
   "source": []
  }
 ],
 "metadata": {
  "kernelspec": {
   "display_name": "Python 3 (ipykernel)",
   "language": "python",
   "name": "python3"
  },
  "language_info": {
   "codemirror_mode": {
    "name": "ipython",
    "version": 3
   },
   "file_extension": ".py",
   "mimetype": "text/x-python",
   "name": "python",
   "nbconvert_exporter": "python",
   "pygments_lexer": "ipython3",
   "version": "3.11.7"
  }
 },
 "nbformat": 4,
 "nbformat_minor": 4
}
